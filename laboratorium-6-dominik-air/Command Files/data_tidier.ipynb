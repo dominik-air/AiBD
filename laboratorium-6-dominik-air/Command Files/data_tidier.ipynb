{
 "cells": [
  {
   "cell_type": "code",
   "execution_count": 21,
   "id": "eca602f1",
   "metadata": {},
   "outputs": [
    {
     "name": "stdout",
     "output_type": "stream",
     "text": [
      "12\n"
     ]
    }
   ],
   "source": [
    "name ='Dominik'\n",
    "surname = 'Żurek'\n",
    "dataset_number = (len(name) + len(surname)) % 16\n",
    "print(dataset_number)"
   ]
  },
  {
   "cell_type": "code",
   "execution_count": 22,
   "id": "e026af80",
   "metadata": {},
   "outputs": [],
   "source": [
    "import os\n",
    "import pandas as pd\n",
    "\n",
    "original_data_filename = '12_S╠üWIE╠ĘTOKRZYSKIE.csv'\n",
    "go_up_by = len('Command Files')\n",
    "original_data_filepath = os.getcwd()[:-go_up_by] + f'Original Data/{original_data_filename}'\n",
    "analysis_data_filepath = os.getcwd()[:-go_up_by] + f'Analysis Data/tidy_{original_data_filename}'\n",
    "data_appendix_filepath = os.getcwd()[:-go_up_by] + 'Documents/data_appendix.csv'\n",
    "\n",
    "df = pd.read_csv(original_data_filepath).iloc[:, 1:].reset_index(drop=True)\n",
    "# uzupełnienie brakujących danych o wieku kupującego medianą\n",
    "df.fillna(df['Wiek kupującego'].median(), inplace=True)"
   ]
  },
  {
   "cell_type": "markdown",
   "source": [
    "Zapis wyczyszczonych danych do folderu danych do analizy i jako data_appendix w folderze Documents."
   ],
   "metadata": {
    "collapsed": false,
    "pycharm": {
     "name": "#%% md\n"
    }
   }
  },
  {
   "cell_type": "code",
   "execution_count": 23,
   "id": "47227e81",
   "metadata": {},
   "outputs": [],
   "source": [
    "df.to_csv(analysis_data_filepath)"
   ]
  },
  {
   "cell_type": "code",
   "execution_count": 24,
   "id": "b1215962",
   "metadata": {
    "pycharm": {
     "name": "#%%\n"
    }
   },
   "outputs": [],
   "source": [
    "df.to_csv(data_appendix_filepath)"
   ]
  }
 ],
 "metadata": {
  "kernelspec": {
   "name": "python3",
   "language": "python",
   "display_name": "Python 3 (ipykernel)"
  },
  "language_info": {
   "codemirror_mode": {
    "name": "ipython",
    "version": 3
   },
   "file_extension": ".py",
   "mimetype": "text/x-python",
   "name": "python",
   "nbconvert_exporter": "python",
   "pygments_lexer": "ipython3",
   "version": "3.8.11"
  }
 },
 "nbformat": 4,
 "nbformat_minor": 5
}
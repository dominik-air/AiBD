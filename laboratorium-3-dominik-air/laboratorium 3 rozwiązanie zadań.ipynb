{
 "cells": [
  {
   "cell_type": "markdown",
   "id": "2f24c098",
   "metadata": {},
   "source": [
    "## Laboratorium 3\n",
    "### Dominik Żurek\n",
    "\n",
    "### Konfiguracja dostępu do bazy danych"
   ]
  },
  {
   "cell_type": "code",
   "execution_count": 67,
   "id": "5bb9daa2",
   "metadata": {},
   "outputs": [],
   "source": [
    "import psycopg2 as pg\n",
    "import pandas as pd\n",
    "\n",
    "connection = pg.connect(host='pgsql-196447.vipserv.org', port=5432, dbname='wbauer_adb', user='wbauer_adb', password='adb2020')"
   ]
  },
  {
   "cell_type": "markdown",
   "id": "65379d7f",
   "metadata": {},
   "source": [
    "### Zadanie 1\n",
    "Ile kategorii filmów mamy w wypożyczalni?"
   ]
  },
  {
   "cell_type": "code",
   "execution_count": 68,
   "id": "4db11116",
   "metadata": {},
   "outputs": [
    {
     "data": {
      "text/plain": "   ile_kategorii_filmow\n0                    16",
      "text/html": "<div>\n<style scoped>\n    .dataframe tbody tr th:only-of-type {\n        vertical-align: middle;\n    }\n\n    .dataframe tbody tr th {\n        vertical-align: top;\n    }\n\n    .dataframe thead th {\n        text-align: right;\n    }\n</style>\n<table border=\"1\" class=\"dataframe\">\n  <thead>\n    <tr style=\"text-align: right;\">\n      <th></th>\n      <th>ile_kategorii_filmow</th>\n    </tr>\n  </thead>\n  <tbody>\n    <tr>\n      <th>0</th>\n      <td>16</td>\n    </tr>\n  </tbody>\n</table>\n</div>"
     },
     "execution_count": 68,
     "metadata": {},
     "output_type": "execute_result"
    }
   ],
   "source": [
    "film_categories_count = pd.read_sql('select COUNT(DISTINCT category_id) as ile_kategorii_filmow from film_category',con=connection)\n",
    "film_categories_count"
   ]
  },
  {
   "cell_type": "markdown",
   "id": "515b6da9",
   "metadata": {},
   "source": [
    "### Zadanie 2\n",
    "Wyświetl listę kategorii w kolejności alfabetycznej."
   ]
  },
  {
   "cell_type": "code",
   "execution_count": 69,
   "id": "a71d1f15",
   "metadata": {},
   "outputs": [
    {
     "data": {
      "text/plain": "           name\n0        Action\n1     Animation\n2      Children\n3      Classics\n4        Comedy\n5   Documentary\n6         Drama\n7        Family\n8       Foreign\n9         Games\n10       Horror\n11        Music\n12          New\n13       Sci-Fi\n14       Sports\n15       Travel",
      "text/html": "<div>\n<style scoped>\n    .dataframe tbody tr th:only-of-type {\n        vertical-align: middle;\n    }\n\n    .dataframe tbody tr th {\n        vertical-align: top;\n    }\n\n    .dataframe thead th {\n        text-align: right;\n    }\n</style>\n<table border=\"1\" class=\"dataframe\">\n  <thead>\n    <tr style=\"text-align: right;\">\n      <th></th>\n      <th>name</th>\n    </tr>\n  </thead>\n  <tbody>\n    <tr>\n      <th>0</th>\n      <td>Action</td>\n    </tr>\n    <tr>\n      <th>1</th>\n      <td>Animation</td>\n    </tr>\n    <tr>\n      <th>2</th>\n      <td>Children</td>\n    </tr>\n    <tr>\n      <th>3</th>\n      <td>Classics</td>\n    </tr>\n    <tr>\n      <th>4</th>\n      <td>Comedy</td>\n    </tr>\n    <tr>\n      <th>5</th>\n      <td>Documentary</td>\n    </tr>\n    <tr>\n      <th>6</th>\n      <td>Drama</td>\n    </tr>\n    <tr>\n      <th>7</th>\n      <td>Family</td>\n    </tr>\n    <tr>\n      <th>8</th>\n      <td>Foreign</td>\n    </tr>\n    <tr>\n      <th>9</th>\n      <td>Games</td>\n    </tr>\n    <tr>\n      <th>10</th>\n      <td>Horror</td>\n    </tr>\n    <tr>\n      <th>11</th>\n      <td>Music</td>\n    </tr>\n    <tr>\n      <th>12</th>\n      <td>New</td>\n    </tr>\n    <tr>\n      <th>13</th>\n      <td>Sci-Fi</td>\n    </tr>\n    <tr>\n      <th>14</th>\n      <td>Sports</td>\n    </tr>\n    <tr>\n      <th>15</th>\n      <td>Travel</td>\n    </tr>\n  </tbody>\n</table>\n</div>"
     },
     "execution_count": 69,
     "metadata": {},
     "output_type": "execute_result"
    }
   ],
   "source": [
    "film_categories = pd.read_sql('select name from category order by name',con=connection)\n",
    "film_categories"
   ]
  },
  {
   "cell_type": "markdown",
   "id": "01349ca3",
   "metadata": {},
   "source": [
    "### Zadanie 3\n",
    "Znajdź najstarszy i najmłodszy film do wypożyczenia."
   ]
  },
  {
   "cell_type": "code",
   "execution_count": 70,
   "id": "e4bd94aa",
   "metadata": {},
   "outputs": [
    {
     "data": {
      "text/plain": "                 title  release_year\n0      Chamber Italian          2006\n1     Grosse Wonderful          2006\n2      Airport Pollock          2006\n3    Bright Encounters          2006\n4     Academy Dinosaur          2006\n..                 ...           ...\n995     Young Language          2006\n996         Youth Kick          2006\n997       Zhivago Core          2006\n998  Zoolander Fiction          2006\n999          Zorro Ark          2006\n\n[1000 rows x 2 columns]",
      "text/html": "<div>\n<style scoped>\n    .dataframe tbody tr th:only-of-type {\n        vertical-align: middle;\n    }\n\n    .dataframe tbody tr th {\n        vertical-align: top;\n    }\n\n    .dataframe thead th {\n        text-align: right;\n    }\n</style>\n<table border=\"1\" class=\"dataframe\">\n  <thead>\n    <tr style=\"text-align: right;\">\n      <th></th>\n      <th>title</th>\n      <th>release_year</th>\n    </tr>\n  </thead>\n  <tbody>\n    <tr>\n      <th>0</th>\n      <td>Chamber Italian</td>\n      <td>2006</td>\n    </tr>\n    <tr>\n      <th>1</th>\n      <td>Grosse Wonderful</td>\n      <td>2006</td>\n    </tr>\n    <tr>\n      <th>2</th>\n      <td>Airport Pollock</td>\n      <td>2006</td>\n    </tr>\n    <tr>\n      <th>3</th>\n      <td>Bright Encounters</td>\n      <td>2006</td>\n    </tr>\n    <tr>\n      <th>4</th>\n      <td>Academy Dinosaur</td>\n      <td>2006</td>\n    </tr>\n    <tr>\n      <th>...</th>\n      <td>...</td>\n      <td>...</td>\n    </tr>\n    <tr>\n      <th>995</th>\n      <td>Young Language</td>\n      <td>2006</td>\n    </tr>\n    <tr>\n      <th>996</th>\n      <td>Youth Kick</td>\n      <td>2006</td>\n    </tr>\n    <tr>\n      <th>997</th>\n      <td>Zhivago Core</td>\n      <td>2006</td>\n    </tr>\n    <tr>\n      <th>998</th>\n      <td>Zoolander Fiction</td>\n      <td>2006</td>\n    </tr>\n    <tr>\n      <th>999</th>\n      <td>Zorro Ark</td>\n      <td>2006</td>\n    </tr>\n  </tbody>\n</table>\n<p>1000 rows × 2 columns</p>\n</div>"
     },
     "execution_count": 70,
     "metadata": {},
     "output_type": "execute_result"
    }
   ],
   "source": [
    "df = pd.read_sql('select title, release_year from film where release_year in ((select min(release_year) from film), (select max(release_year) from film))',con=connection)\n",
    "df"
   ]
  },
  {
   "cell_type": "markdown",
   "id": "f1b74aed",
   "metadata": {},
   "source": [
    "Wszystkie filmy są z 2006 roku, zatem wszystkie są zarazem najstarszym jak i najmłodszym filmem do wypożyczenia."
   ]
  },
  {
   "cell_type": "markdown",
   "id": "71eee986",
   "metadata": {},
   "source": [
    "### Zadanie 4\n",
    "Ile wypożyczeń odbyło się między 2005-07-01 a 2005-08-01?"
   ]
  },
  {
   "cell_type": "code",
   "execution_count": 87,
   "id": "1c0bb5d5",
   "metadata": {},
   "outputs": [
    {
     "data": {
      "text/plain": "   ile_bylo_wypozyczen\n0                 7380",
      "text/html": "<div>\n<style scoped>\n    .dataframe tbody tr th:only-of-type {\n        vertical-align: middle;\n    }\n\n    .dataframe tbody tr th {\n        vertical-align: top;\n    }\n\n    .dataframe thead th {\n        text-align: right;\n    }\n</style>\n<table border=\"1\" class=\"dataframe\">\n  <thead>\n    <tr style=\"text-align: right;\">\n      <th></th>\n      <th>ile_bylo_wypozyczen</th>\n    </tr>\n  </thead>\n  <tbody>\n    <tr>\n      <th>0</th>\n      <td>7380</td>\n    </tr>\n  </tbody>\n</table>\n</div>"
     },
     "execution_count": 87,
     "metadata": {},
     "output_type": "execute_result"
    }
   ],
   "source": [
    "df = pd.read_sql(\"select COUNT(*) as ile_bylo_wypozyczen from rental where rental_date >= '2005-07-01 00:00:00' and rental_date <= '2005-08-01 23:59:59'\",con=connection)\n",
    "df"
   ]
  },
  {
   "cell_type": "markdown",
   "id": "cafad7df",
   "metadata": {},
   "source": [
    "### Zadanie 5\n",
    "Ile wypożyczeń odbyło się między 2010-01-01 a 2011-02-01?"
   ]
  },
  {
   "cell_type": "code",
   "execution_count": 88,
   "id": "83ba526a",
   "metadata": {},
   "outputs": [
    {
     "data": {
      "text/plain": "   ile_bylo_wypozyczen\n0                    0",
      "text/html": "<div>\n<style scoped>\n    .dataframe tbody tr th:only-of-type {\n        vertical-align: middle;\n    }\n\n    .dataframe tbody tr th {\n        vertical-align: top;\n    }\n\n    .dataframe thead th {\n        text-align: right;\n    }\n</style>\n<table border=\"1\" class=\"dataframe\">\n  <thead>\n    <tr style=\"text-align: right;\">\n      <th></th>\n      <th>ile_bylo_wypozyczen</th>\n    </tr>\n  </thead>\n  <tbody>\n    <tr>\n      <th>0</th>\n      <td>0</td>\n    </tr>\n  </tbody>\n</table>\n</div>"
     },
     "execution_count": 88,
     "metadata": {},
     "output_type": "execute_result"
    }
   ],
   "source": [
    "df = pd.read_sql(\"select COUNT(*) as ile_bylo_wypozyczen from rental where rental_date >= '2010-01-01 00:00:00' and rental_date <= '2011-02-01 23:59:59'\",con=connection)\n",
    "df"
   ]
  },
  {
   "cell_type": "code",
   "execution_count": 73,
   "id": "d4491d4f",
   "metadata": {},
   "outputs": [
    {
     "data": {
      "text/plain": "                  max\n0 2006-02-14 15:16:03",
      "text/html": "<div>\n<style scoped>\n    .dataframe tbody tr th:only-of-type {\n        vertical-align: middle;\n    }\n\n    .dataframe tbody tr th {\n        vertical-align: top;\n    }\n\n    .dataframe thead th {\n        text-align: right;\n    }\n</style>\n<table border=\"1\" class=\"dataframe\">\n  <thead>\n    <tr style=\"text-align: right;\">\n      <th></th>\n      <th>max</th>\n    </tr>\n  </thead>\n  <tbody>\n    <tr>\n      <th>0</th>\n      <td>2006-02-14 15:16:03</td>\n    </tr>\n  </tbody>\n</table>\n</div>"
     },
     "execution_count": 73,
     "metadata": {},
     "output_type": "execute_result"
    }
   ],
   "source": [
    "df = pd.read_sql(\"select max(rental_date) from rental\",con=connection)\n",
    "df"
   ]
  },
  {
   "cell_type": "markdown",
   "id": "155b9976",
   "metadata": {},
   "source": [
    "Nie było żadnych wypożyczeń 2010-01-01 a 2011-02-01, bo ostatnie wypożyczenie było w 2006 roku."
   ]
  },
  {
   "cell_type": "markdown",
   "id": "53a2bd46",
   "metadata": {},
   "source": [
    "### Zadanie 6\n",
    "Znajdź największą płatność wypożyczenia."
   ]
  },
  {
   "cell_type": "code",
   "execution_count": 74,
   "id": "84fdd6e5",
   "metadata": {},
   "outputs": [
    {
     "data": {
      "text/plain": "   payment_id  customer_id  staff_id  rental_id  amount  \\\n0       20403          362         1      14759   11.99   \n1       22650          204         2      15415   11.99   \n2       23757          116         2      14763   11.99   \n3       24553          195         2      16040   11.99   \n4       24866          237         2      11479   11.99   \n5       28799          591         2       4383   11.99   \n6       28814          592         1       3973   11.99   \n7       29136           13         2       8831   11.99   \n\n                payment_date  \n0 2007-03-21 21:57:24.996577  \n1 2007-03-22 22:17:22.996577  \n2 2007-03-21 22:02:26.996577  \n3 2007-03-23 20:47:59.996577  \n4 2007-03-02 20:46:39.996577  \n5 2007-04-07 19:14:17.996577  \n6 2007-04-06 21:26:57.996577  \n7 2007-04-29 21:06:07.996577  ",
      "text/html": "<div>\n<style scoped>\n    .dataframe tbody tr th:only-of-type {\n        vertical-align: middle;\n    }\n\n    .dataframe tbody tr th {\n        vertical-align: top;\n    }\n\n    .dataframe thead th {\n        text-align: right;\n    }\n</style>\n<table border=\"1\" class=\"dataframe\">\n  <thead>\n    <tr style=\"text-align: right;\">\n      <th></th>\n      <th>payment_id</th>\n      <th>customer_id</th>\n      <th>staff_id</th>\n      <th>rental_id</th>\n      <th>amount</th>\n      <th>payment_date</th>\n    </tr>\n  </thead>\n  <tbody>\n    <tr>\n      <th>0</th>\n      <td>20403</td>\n      <td>362</td>\n      <td>1</td>\n      <td>14759</td>\n      <td>11.99</td>\n      <td>2007-03-21 21:57:24.996577</td>\n    </tr>\n    <tr>\n      <th>1</th>\n      <td>22650</td>\n      <td>204</td>\n      <td>2</td>\n      <td>15415</td>\n      <td>11.99</td>\n      <td>2007-03-22 22:17:22.996577</td>\n    </tr>\n    <tr>\n      <th>2</th>\n      <td>23757</td>\n      <td>116</td>\n      <td>2</td>\n      <td>14763</td>\n      <td>11.99</td>\n      <td>2007-03-21 22:02:26.996577</td>\n    </tr>\n    <tr>\n      <th>3</th>\n      <td>24553</td>\n      <td>195</td>\n      <td>2</td>\n      <td>16040</td>\n      <td>11.99</td>\n      <td>2007-03-23 20:47:59.996577</td>\n    </tr>\n    <tr>\n      <th>4</th>\n      <td>24866</td>\n      <td>237</td>\n      <td>2</td>\n      <td>11479</td>\n      <td>11.99</td>\n      <td>2007-03-02 20:46:39.996577</td>\n    </tr>\n    <tr>\n      <th>5</th>\n      <td>28799</td>\n      <td>591</td>\n      <td>2</td>\n      <td>4383</td>\n      <td>11.99</td>\n      <td>2007-04-07 19:14:17.996577</td>\n    </tr>\n    <tr>\n      <th>6</th>\n      <td>28814</td>\n      <td>592</td>\n      <td>1</td>\n      <td>3973</td>\n      <td>11.99</td>\n      <td>2007-04-06 21:26:57.996577</td>\n    </tr>\n    <tr>\n      <th>7</th>\n      <td>29136</td>\n      <td>13</td>\n      <td>2</td>\n      <td>8831</td>\n      <td>11.99</td>\n      <td>2007-04-29 21:06:07.996577</td>\n    </tr>\n  </tbody>\n</table>\n</div>"
     },
     "execution_count": 74,
     "metadata": {},
     "output_type": "execute_result"
    }
   ],
   "source": [
    "df = pd.read_sql(\"select * from payment where amount in (select max(amount) from payment)\",con=connection)\n",
    "df"
   ]
  },
  {
   "cell_type": "markdown",
   "id": "18fa7c85",
   "metadata": {
    "pycharm": {
     "name": "#%% md\n"
    }
   },
   "source": [
    "### Zadanie 7\n",
    "Znajdź wszystkich klientów z Polski, Nigerii lub Bangladeszu."
   ]
  },
  {
   "cell_type": "code",
   "execution_count": 75,
   "id": "5b5a371a",
   "metadata": {},
   "outputs": [
    {
     "data": {
      "text/plain": "    customer_id  store_id first_name  last_name  \\\n0            18         2      Carol     Garcia   \n1            21         1   Michelle      Clark   \n2            80         1    Marilyn       Ross   \n3           103         1     Gladys   Hamilton   \n4           128         1   Marjorie     Tucker   \n5           156         1     Bertha   Ferguson   \n6           198         2      Elsie     Kelley   \n7           232         2  Constance       Reid   \n8           250         2         Jo     Fowler   \n9           270         1       Leah     Curtis   \n10          277         2       Olga    Jimenez   \n11          280         2     Tracey    Barrett   \n12          284         1      Sonia    Gregory   \n13          286         1      Velma      Lucas   \n14          318         1      Brian      Wyman   \n15          329         2      Frank   Waggoner   \n16          332         1    Stephen     Qualls   \n17          380         1    Russell    Brinson   \n18          409         2     Rodney    Moeller   \n19          501         1      Ruben      Geary   \n20          558         1     Jimmie  Eggleston   \n21          562         1    Wallace      Slone   \n22          571         2    Johnnie   Chisholm   \n23          572         1     Sidney   Burleson   \n\n                                  email  address_id  activebool create_date  \\\n0       carol.garcia@sakilacustomer.org          22        True  2006-02-14   \n1     michelle.clark@sakilacustomer.org          25        True  2006-02-14   \n2       marilyn.ross@sakilacustomer.org          84        True  2006-02-14   \n3    gladys.hamilton@sakilacustomer.org         107        True  2006-02-14   \n4    marjorie.tucker@sakilacustomer.org         132        True  2006-02-14   \n5    bertha.ferguson@sakilacustomer.org         160        True  2006-02-14   \n6       elsie.kelley@sakilacustomer.org         202        True  2006-02-14   \n7     constance.reid@sakilacustomer.org         236        True  2006-02-14   \n8          jo.fowler@sakilacustomer.org         254        True  2006-02-14   \n9        leah.curtis@sakilacustomer.org         275        True  2006-02-14   \n10      olga.jimenez@sakilacustomer.org         282        True  2006-02-14   \n11    tracey.barrett@sakilacustomer.org         285        True  2006-02-14   \n12     sonia.gregory@sakilacustomer.org         289        True  2006-02-14   \n13       velma.lucas@sakilacustomer.org         291        True  2006-02-14   \n14       brian.wyman@sakilacustomer.org         323        True  2006-02-14   \n15    frank.waggoner@sakilacustomer.org         334        True  2006-02-14   \n16    stephen.qualls@sakilacustomer.org         337        True  2006-02-14   \n17   russell.brinson@sakilacustomer.org         385        True  2006-02-14   \n18    rodney.moeller@sakilacustomer.org         414        True  2006-02-14   \n19       ruben.geary@sakilacustomer.org         506        True  2006-02-14   \n20  jimmie.eggleston@sakilacustomer.org         564        True  2006-02-14   \n21     wallace.slone@sakilacustomer.org         568        True  2006-02-14   \n22  johnnie.chisholm@sakilacustomer.org         577        True  2006-02-14   \n23   sidney.burleson@sakilacustomer.org         578        True  2006-02-14   \n\n               last_update  active  \n0  2013-05-26 14:49:45.738       1  \n1  2013-05-26 14:49:45.738       1  \n2  2013-05-26 14:49:45.738       1  \n3  2013-05-26 14:49:45.738       1  \n4  2013-05-26 14:49:45.738       1  \n5  2013-05-26 14:49:45.738       1  \n6  2013-05-26 14:49:45.738       1  \n7  2013-05-26 14:49:45.738       1  \n8  2013-05-26 14:49:45.738       1  \n9  2013-05-26 14:49:45.738       1  \n10 2013-05-26 14:49:45.738       1  \n11 2013-05-26 14:49:45.738       1  \n12 2013-05-26 14:49:45.738       1  \n13 2013-05-26 14:49:45.738       1  \n14 2013-05-26 14:49:45.738       1  \n15 2013-05-26 14:49:45.738       1  \n16 2013-05-26 14:49:45.738       1  \n17 2013-05-26 14:49:45.738       1  \n18 2013-05-26 14:49:45.738       1  \n19 2013-05-26 14:49:45.738       1  \n20 2013-05-26 14:49:45.738       0  \n21 2013-05-26 14:49:45.738       1  \n22 2013-05-26 14:49:45.738       1  \n23 2013-05-26 14:49:45.738       1  ",
      "text/html": "<div>\n<style scoped>\n    .dataframe tbody tr th:only-of-type {\n        vertical-align: middle;\n    }\n\n    .dataframe tbody tr th {\n        vertical-align: top;\n    }\n\n    .dataframe thead th {\n        text-align: right;\n    }\n</style>\n<table border=\"1\" class=\"dataframe\">\n  <thead>\n    <tr style=\"text-align: right;\">\n      <th></th>\n      <th>customer_id</th>\n      <th>store_id</th>\n      <th>first_name</th>\n      <th>last_name</th>\n      <th>email</th>\n      <th>address_id</th>\n      <th>activebool</th>\n      <th>create_date</th>\n      <th>last_update</th>\n      <th>active</th>\n    </tr>\n  </thead>\n  <tbody>\n    <tr>\n      <th>0</th>\n      <td>18</td>\n      <td>2</td>\n      <td>Carol</td>\n      <td>Garcia</td>\n      <td>carol.garcia@sakilacustomer.org</td>\n      <td>22</td>\n      <td>True</td>\n      <td>2006-02-14</td>\n      <td>2013-05-26 14:49:45.738</td>\n      <td>1</td>\n    </tr>\n    <tr>\n      <th>1</th>\n      <td>21</td>\n      <td>1</td>\n      <td>Michelle</td>\n      <td>Clark</td>\n      <td>michelle.clark@sakilacustomer.org</td>\n      <td>25</td>\n      <td>True</td>\n      <td>2006-02-14</td>\n      <td>2013-05-26 14:49:45.738</td>\n      <td>1</td>\n    </tr>\n    <tr>\n      <th>2</th>\n      <td>80</td>\n      <td>1</td>\n      <td>Marilyn</td>\n      <td>Ross</td>\n      <td>marilyn.ross@sakilacustomer.org</td>\n      <td>84</td>\n      <td>True</td>\n      <td>2006-02-14</td>\n      <td>2013-05-26 14:49:45.738</td>\n      <td>1</td>\n    </tr>\n    <tr>\n      <th>3</th>\n      <td>103</td>\n      <td>1</td>\n      <td>Gladys</td>\n      <td>Hamilton</td>\n      <td>gladys.hamilton@sakilacustomer.org</td>\n      <td>107</td>\n      <td>True</td>\n      <td>2006-02-14</td>\n      <td>2013-05-26 14:49:45.738</td>\n      <td>1</td>\n    </tr>\n    <tr>\n      <th>4</th>\n      <td>128</td>\n      <td>1</td>\n      <td>Marjorie</td>\n      <td>Tucker</td>\n      <td>marjorie.tucker@sakilacustomer.org</td>\n      <td>132</td>\n      <td>True</td>\n      <td>2006-02-14</td>\n      <td>2013-05-26 14:49:45.738</td>\n      <td>1</td>\n    </tr>\n    <tr>\n      <th>5</th>\n      <td>156</td>\n      <td>1</td>\n      <td>Bertha</td>\n      <td>Ferguson</td>\n      <td>bertha.ferguson@sakilacustomer.org</td>\n      <td>160</td>\n      <td>True</td>\n      <td>2006-02-14</td>\n      <td>2013-05-26 14:49:45.738</td>\n      <td>1</td>\n    </tr>\n    <tr>\n      <th>6</th>\n      <td>198</td>\n      <td>2</td>\n      <td>Elsie</td>\n      <td>Kelley</td>\n      <td>elsie.kelley@sakilacustomer.org</td>\n      <td>202</td>\n      <td>True</td>\n      <td>2006-02-14</td>\n      <td>2013-05-26 14:49:45.738</td>\n      <td>1</td>\n    </tr>\n    <tr>\n      <th>7</th>\n      <td>232</td>\n      <td>2</td>\n      <td>Constance</td>\n      <td>Reid</td>\n      <td>constance.reid@sakilacustomer.org</td>\n      <td>236</td>\n      <td>True</td>\n      <td>2006-02-14</td>\n      <td>2013-05-26 14:49:45.738</td>\n      <td>1</td>\n    </tr>\n    <tr>\n      <th>8</th>\n      <td>250</td>\n      <td>2</td>\n      <td>Jo</td>\n      <td>Fowler</td>\n      <td>jo.fowler@sakilacustomer.org</td>\n      <td>254</td>\n      <td>True</td>\n      <td>2006-02-14</td>\n      <td>2013-05-26 14:49:45.738</td>\n      <td>1</td>\n    </tr>\n    <tr>\n      <th>9</th>\n      <td>270</td>\n      <td>1</td>\n      <td>Leah</td>\n      <td>Curtis</td>\n      <td>leah.curtis@sakilacustomer.org</td>\n      <td>275</td>\n      <td>True</td>\n      <td>2006-02-14</td>\n      <td>2013-05-26 14:49:45.738</td>\n      <td>1</td>\n    </tr>\n    <tr>\n      <th>10</th>\n      <td>277</td>\n      <td>2</td>\n      <td>Olga</td>\n      <td>Jimenez</td>\n      <td>olga.jimenez@sakilacustomer.org</td>\n      <td>282</td>\n      <td>True</td>\n      <td>2006-02-14</td>\n      <td>2013-05-26 14:49:45.738</td>\n      <td>1</td>\n    </tr>\n    <tr>\n      <th>11</th>\n      <td>280</td>\n      <td>2</td>\n      <td>Tracey</td>\n      <td>Barrett</td>\n      <td>tracey.barrett@sakilacustomer.org</td>\n      <td>285</td>\n      <td>True</td>\n      <td>2006-02-14</td>\n      <td>2013-05-26 14:49:45.738</td>\n      <td>1</td>\n    </tr>\n    <tr>\n      <th>12</th>\n      <td>284</td>\n      <td>1</td>\n      <td>Sonia</td>\n      <td>Gregory</td>\n      <td>sonia.gregory@sakilacustomer.org</td>\n      <td>289</td>\n      <td>True</td>\n      <td>2006-02-14</td>\n      <td>2013-05-26 14:49:45.738</td>\n      <td>1</td>\n    </tr>\n    <tr>\n      <th>13</th>\n      <td>286</td>\n      <td>1</td>\n      <td>Velma</td>\n      <td>Lucas</td>\n      <td>velma.lucas@sakilacustomer.org</td>\n      <td>291</td>\n      <td>True</td>\n      <td>2006-02-14</td>\n      <td>2013-05-26 14:49:45.738</td>\n      <td>1</td>\n    </tr>\n    <tr>\n      <th>14</th>\n      <td>318</td>\n      <td>1</td>\n      <td>Brian</td>\n      <td>Wyman</td>\n      <td>brian.wyman@sakilacustomer.org</td>\n      <td>323</td>\n      <td>True</td>\n      <td>2006-02-14</td>\n      <td>2013-05-26 14:49:45.738</td>\n      <td>1</td>\n    </tr>\n    <tr>\n      <th>15</th>\n      <td>329</td>\n      <td>2</td>\n      <td>Frank</td>\n      <td>Waggoner</td>\n      <td>frank.waggoner@sakilacustomer.org</td>\n      <td>334</td>\n      <td>True</td>\n      <td>2006-02-14</td>\n      <td>2013-05-26 14:49:45.738</td>\n      <td>1</td>\n    </tr>\n    <tr>\n      <th>16</th>\n      <td>332</td>\n      <td>1</td>\n      <td>Stephen</td>\n      <td>Qualls</td>\n      <td>stephen.qualls@sakilacustomer.org</td>\n      <td>337</td>\n      <td>True</td>\n      <td>2006-02-14</td>\n      <td>2013-05-26 14:49:45.738</td>\n      <td>1</td>\n    </tr>\n    <tr>\n      <th>17</th>\n      <td>380</td>\n      <td>1</td>\n      <td>Russell</td>\n      <td>Brinson</td>\n      <td>russell.brinson@sakilacustomer.org</td>\n      <td>385</td>\n      <td>True</td>\n      <td>2006-02-14</td>\n      <td>2013-05-26 14:49:45.738</td>\n      <td>1</td>\n    </tr>\n    <tr>\n      <th>18</th>\n      <td>409</td>\n      <td>2</td>\n      <td>Rodney</td>\n      <td>Moeller</td>\n      <td>rodney.moeller@sakilacustomer.org</td>\n      <td>414</td>\n      <td>True</td>\n      <td>2006-02-14</td>\n      <td>2013-05-26 14:49:45.738</td>\n      <td>1</td>\n    </tr>\n    <tr>\n      <th>19</th>\n      <td>501</td>\n      <td>1</td>\n      <td>Ruben</td>\n      <td>Geary</td>\n      <td>ruben.geary@sakilacustomer.org</td>\n      <td>506</td>\n      <td>True</td>\n      <td>2006-02-14</td>\n      <td>2013-05-26 14:49:45.738</td>\n      <td>1</td>\n    </tr>\n    <tr>\n      <th>20</th>\n      <td>558</td>\n      <td>1</td>\n      <td>Jimmie</td>\n      <td>Eggleston</td>\n      <td>jimmie.eggleston@sakilacustomer.org</td>\n      <td>564</td>\n      <td>True</td>\n      <td>2006-02-14</td>\n      <td>2013-05-26 14:49:45.738</td>\n      <td>0</td>\n    </tr>\n    <tr>\n      <th>21</th>\n      <td>562</td>\n      <td>1</td>\n      <td>Wallace</td>\n      <td>Slone</td>\n      <td>wallace.slone@sakilacustomer.org</td>\n      <td>568</td>\n      <td>True</td>\n      <td>2006-02-14</td>\n      <td>2013-05-26 14:49:45.738</td>\n      <td>1</td>\n    </tr>\n    <tr>\n      <th>22</th>\n      <td>571</td>\n      <td>2</td>\n      <td>Johnnie</td>\n      <td>Chisholm</td>\n      <td>johnnie.chisholm@sakilacustomer.org</td>\n      <td>577</td>\n      <td>True</td>\n      <td>2006-02-14</td>\n      <td>2013-05-26 14:49:45.738</td>\n      <td>1</td>\n    </tr>\n    <tr>\n      <th>23</th>\n      <td>572</td>\n      <td>1</td>\n      <td>Sidney</td>\n      <td>Burleson</td>\n      <td>sidney.burleson@sakilacustomer.org</td>\n      <td>578</td>\n      <td>True</td>\n      <td>2006-02-14</td>\n      <td>2013-05-26 14:49:45.738</td>\n      <td>1</td>\n    </tr>\n  </tbody>\n</table>\n</div>"
     },
     "execution_count": 75,
     "metadata": {},
     "output_type": "execute_result"
    }
   ],
   "source": [
    "# generalnie rozbiłem to sobie na kilka mniejszych zapytań, ale nie jestem pewny czy to jest dozwolone w tym ćwiczeniu\n",
    "# na pewno jest to łatwiejsze w sprawdzeniu/modyfikacji jeżeli coś miałoby się zmienić w bazie danych\n",
    "country_ids = pd.read_sql(\"select country_id from country where country in ('Poland', 'Nigeria', 'Bangladesh')\",con=connection)['country_id'].tolist()\n",
    "city_ids = pd.read_sql(f\"select city_id from city where country_id in ({','.join(str(c) for c in country_ids)})\",con=connection)['city_id'].tolist()\n",
    "address_ids = pd.read_sql(f\"select address_id from address where city_id in ({','.join(str(c) for c in city_ids)})\", con=connection)['address_id'].tolist()\n",
    "PolNigBang_customers = pd.read_sql(f\"select * from customer where address_id in ({','.join(str(a) for a in address_ids)})\", con=connection)\n",
    "PolNigBang_customers"
   ]
  },
  {
   "cell_type": "markdown",
   "source": [
    "### Zadanie 8\n",
    "Gdzie mieszkają członkowie personelu?"
   ],
   "metadata": {
    "collapsed": false,
    "pycharm": {
     "name": "#%% md\n"
    }
   }
  },
  {
   "cell_type": "code",
   "execution_count": 76,
   "outputs": [
    {
     "data": {
      "text/plain": "   address_id               address address2 district  city_id postal_code  \\\n0           3     23 Workhaven Lane     None  Alberta      300               \n1           4  1411 Lillydale Drive     None      QLD      576               \n\n         phone         last_update  \n0  14033335568 2006-02-15 09:45:30  \n1   6172235589 2006-02-15 09:45:30  ",
      "text/html": "<div>\n<style scoped>\n    .dataframe tbody tr th:only-of-type {\n        vertical-align: middle;\n    }\n\n    .dataframe tbody tr th {\n        vertical-align: top;\n    }\n\n    .dataframe thead th {\n        text-align: right;\n    }\n</style>\n<table border=\"1\" class=\"dataframe\">\n  <thead>\n    <tr style=\"text-align: right;\">\n      <th></th>\n      <th>address_id</th>\n      <th>address</th>\n      <th>address2</th>\n      <th>district</th>\n      <th>city_id</th>\n      <th>postal_code</th>\n      <th>phone</th>\n      <th>last_update</th>\n    </tr>\n  </thead>\n  <tbody>\n    <tr>\n      <th>0</th>\n      <td>3</td>\n      <td>23 Workhaven Lane</td>\n      <td>None</td>\n      <td>Alberta</td>\n      <td>300</td>\n      <td></td>\n      <td>14033335568</td>\n      <td>2006-02-15 09:45:30</td>\n    </tr>\n    <tr>\n      <th>1</th>\n      <td>4</td>\n      <td>1411 Lillydale Drive</td>\n      <td>None</td>\n      <td>QLD</td>\n      <td>576</td>\n      <td></td>\n      <td>6172235589</td>\n      <td>2006-02-15 09:45:30</td>\n    </tr>\n  </tbody>\n</table>\n</div>"
     },
     "execution_count": 76,
     "metadata": {},
     "output_type": "execute_result"
    }
   ],
   "source": [
    "address_ids = pd.read_sql(\"select address_id from staff\", con=connection)[\"address_id\"].tolist()\n",
    "staff_addresses = pd.read_sql(f\"select * from address where address_id in ({','.join(str(a) for a in address_ids)})\", con=connection)\n",
    "staff_addresses"
   ],
   "metadata": {
    "collapsed": false,
    "pycharm": {
     "name": "#%%\n"
    }
   }
  },
  {
   "cell_type": "markdown",
   "source": [
    "### Zadanie 9\n",
    "Ilu pracowników mieszka w Argentynie lub Hiszpanii?"
   ],
   "metadata": {
    "collapsed": false,
    "pycharm": {
     "name": "#%% md\n"
    }
   }
  },
  {
   "cell_type": "code",
   "execution_count": 77,
   "outputs": [
    {
     "data": {
      "text/plain": "     country\n0  Australia\n1     Canada",
      "text/html": "<div>\n<style scoped>\n    .dataframe tbody tr th:only-of-type {\n        vertical-align: middle;\n    }\n\n    .dataframe tbody tr th {\n        vertical-align: top;\n    }\n\n    .dataframe thead th {\n        text-align: right;\n    }\n</style>\n<table border=\"1\" class=\"dataframe\">\n  <thead>\n    <tr style=\"text-align: right;\">\n      <th></th>\n      <th>country</th>\n    </tr>\n  </thead>\n  <tbody>\n    <tr>\n      <th>0</th>\n      <td>Australia</td>\n    </tr>\n    <tr>\n      <th>1</th>\n      <td>Canada</td>\n    </tr>\n  </tbody>\n</table>\n</div>"
     },
     "execution_count": 77,
     "metadata": {},
     "output_type": "execute_result"
    }
   ],
   "source": [
    "staff_city_ids = staff_addresses['city_id'].tolist()\n",
    "staff_country_ids = pd.read_sql(f\"select country_id from city where city_id in ({','.join(str(c) for c in staff_city_ids)})\", con=connection)['country_id'].tolist()\n",
    "staff_countries = pd.read_sql(f\"select country from country where country_id in ({','.join(str(c) for c in staff_country_ids)})\", con=connection)\n",
    "staff_countries"
   ],
   "metadata": {
    "collapsed": false,
    "pycharm": {
     "name": "#%%\n"
    }
   }
  },
  {
   "cell_type": "markdown",
   "source": [
    "Jak można zauważyć żaden z pracowników nie mieszka ani w Argentynie czy też w Hiszpanii.\n",
    "\n",
    "### Zadanie 10\n",
    "Jakie kategorie filmów zostały wypożyczone przez klientów?"
   ],
   "metadata": {
    "collapsed": false,
    "pycharm": {
     "name": "#%% md\n"
    }
   }
  },
  {
   "cell_type": "code",
   "execution_count": 86,
   "outputs": [
    {
     "data": {
      "text/plain": "           name\n0        Action\n1     Animation\n2      Children\n3      Classics\n4        Comedy\n5   Documentary\n6         Drama\n7        Family\n8       Foreign\n9         Games\n10       Horror\n11        Music\n12          New\n13       Sci-Fi\n14       Sports\n15       Travel",
      "text/html": "<div>\n<style scoped>\n    .dataframe tbody tr th:only-of-type {\n        vertical-align: middle;\n    }\n\n    .dataframe tbody tr th {\n        vertical-align: top;\n    }\n\n    .dataframe thead th {\n        text-align: right;\n    }\n</style>\n<table border=\"1\" class=\"dataframe\">\n  <thead>\n    <tr style=\"text-align: right;\">\n      <th></th>\n      <th>name</th>\n    </tr>\n  </thead>\n  <tbody>\n    <tr>\n      <th>0</th>\n      <td>Action</td>\n    </tr>\n    <tr>\n      <th>1</th>\n      <td>Animation</td>\n    </tr>\n    <tr>\n      <th>2</th>\n      <td>Children</td>\n    </tr>\n    <tr>\n      <th>3</th>\n      <td>Classics</td>\n    </tr>\n    <tr>\n      <th>4</th>\n      <td>Comedy</td>\n    </tr>\n    <tr>\n      <th>5</th>\n      <td>Documentary</td>\n    </tr>\n    <tr>\n      <th>6</th>\n      <td>Drama</td>\n    </tr>\n    <tr>\n      <th>7</th>\n      <td>Family</td>\n    </tr>\n    <tr>\n      <th>8</th>\n      <td>Foreign</td>\n    </tr>\n    <tr>\n      <th>9</th>\n      <td>Games</td>\n    </tr>\n    <tr>\n      <th>10</th>\n      <td>Horror</td>\n    </tr>\n    <tr>\n      <th>11</th>\n      <td>Music</td>\n    </tr>\n    <tr>\n      <th>12</th>\n      <td>New</td>\n    </tr>\n    <tr>\n      <th>13</th>\n      <td>Sci-Fi</td>\n    </tr>\n    <tr>\n      <th>14</th>\n      <td>Sports</td>\n    </tr>\n    <tr>\n      <th>15</th>\n      <td>Travel</td>\n    </tr>\n  </tbody>\n</table>\n</div>"
     },
     "execution_count": 86,
     "metadata": {},
     "output_type": "execute_result"
    }
   ],
   "source": [
    "df = pd.read_sql('select name from category where category_id in (select category_id from film_category where film_id in (select film_id from film where film_id in (select film_id from inventory where inventory_id in (select inventory_id from rental)))) ', con=connection)\n",
    "df"
   ],
   "metadata": {
    "collapsed": false,
    "pycharm": {
     "name": "#%%\n"
    }
   }
  },
  {
   "cell_type": "markdown",
   "source": [
    "Można było się tego spodziewać, ale zawsze było warto sprawdzić."
   ],
   "metadata": {
    "collapsed": false,
    "pycharm": {
     "name": "#%% md\n"
    }
   }
  },
  {
   "cell_type": "markdown",
   "source": [
    "### Zadanie 11\n",
    "Znajdź wszystkie kategorie filmów wypożyczonych w Ameryce."
   ],
   "metadata": {
    "collapsed": false,
    "pycharm": {
     "name": "#%% md\n"
    }
   }
  },
  {
   "cell_type": "code",
   "execution_count": 90,
   "outputs": [
    {
     "data": {
      "text/plain": "           name\n0        Family\n1        Travel\n2        Sports\n3      Classics\n4        Action\n5           New\n6        Comedy\n7        Horror\n8      Children\n9        Sci-Fi\n10        Music\n11        Games\n12      Foreign\n13  Documentary\n14    Animation\n15        Drama",
      "text/html": "<div>\n<style scoped>\n    .dataframe tbody tr th:only-of-type {\n        vertical-align: middle;\n    }\n\n    .dataframe tbody tr th {\n        vertical-align: top;\n    }\n\n    .dataframe thead th {\n        text-align: right;\n    }\n</style>\n<table border=\"1\" class=\"dataframe\">\n  <thead>\n    <tr style=\"text-align: right;\">\n      <th></th>\n      <th>name</th>\n    </tr>\n  </thead>\n  <tbody>\n    <tr>\n      <th>0</th>\n      <td>Family</td>\n    </tr>\n    <tr>\n      <th>1</th>\n      <td>Travel</td>\n    </tr>\n    <tr>\n      <th>2</th>\n      <td>Sports</td>\n    </tr>\n    <tr>\n      <th>3</th>\n      <td>Classics</td>\n    </tr>\n    <tr>\n      <th>4</th>\n      <td>Action</td>\n    </tr>\n    <tr>\n      <th>5</th>\n      <td>New</td>\n    </tr>\n    <tr>\n      <th>6</th>\n      <td>Comedy</td>\n    </tr>\n    <tr>\n      <th>7</th>\n      <td>Horror</td>\n    </tr>\n    <tr>\n      <th>8</th>\n      <td>Children</td>\n    </tr>\n    <tr>\n      <th>9</th>\n      <td>Sci-Fi</td>\n    </tr>\n    <tr>\n      <th>10</th>\n      <td>Music</td>\n    </tr>\n    <tr>\n      <th>11</th>\n      <td>Games</td>\n    </tr>\n    <tr>\n      <th>12</th>\n      <td>Foreign</td>\n    </tr>\n    <tr>\n      <th>13</th>\n      <td>Documentary</td>\n    </tr>\n    <tr>\n      <th>14</th>\n      <td>Animation</td>\n    </tr>\n    <tr>\n      <th>15</th>\n      <td>Drama</td>\n    </tr>\n  </tbody>\n</table>\n</div>"
     },
     "execution_count": 90,
     "metadata": {},
     "output_type": "execute_result"
    }
   ],
   "source": [
    "df = pd.read_sql(\"select name from category where category_id in (select category_id from film_category where film_id in (select film_id from film where film_id in (select film_id from inventory where inventory_id in (select inventory_id from rental where customer_id in (select customer_id from customer where address_id in (select address_id from address where city_id in (select city_id from city where country_id in (select country_id from country where country = 'United States')))))))) \", con=connection)\n",
    "df"
   ],
   "metadata": {
    "collapsed": false,
    "pycharm": {
     "name": "#%%\n"
    }
   }
  },
  {
   "cell_type": "markdown",
   "source": [
    "### Zadanie 12\n",
    "Znajdź wszystkie tytuły filmów, w których grał: Olympia Pfeiffer lub Julia Zellweger lub Ellen Presley"
   ],
   "metadata": {
    "collapsed": false,
    "pycharm": {
     "name": "#%% md\n"
    }
   }
  },
  {
   "cell_type": "code",
   "execution_count": 92,
   "outputs": [
    {
     "data": {
      "text/plain": "                title\n0   Caribbean Liberty\n1      Roots Remember\n2        Outlaw Hanky\n3        Women Dorado\n4    Empire Malkovich\n..                ...\n64  Contact Anonymous\n65    Majestic Floats\n66       Deep Crusade\n67   Effect Gladiator\n68     Express Lonely\n\n[69 rows x 1 columns]",
      "text/html": "<div>\n<style scoped>\n    .dataframe tbody tr th:only-of-type {\n        vertical-align: middle;\n    }\n\n    .dataframe tbody tr th {\n        vertical-align: top;\n    }\n\n    .dataframe thead th {\n        text-align: right;\n    }\n</style>\n<table border=\"1\" class=\"dataframe\">\n  <thead>\n    <tr style=\"text-align: right;\">\n      <th></th>\n      <th>title</th>\n    </tr>\n  </thead>\n  <tbody>\n    <tr>\n      <th>0</th>\n      <td>Caribbean Liberty</td>\n    </tr>\n    <tr>\n      <th>1</th>\n      <td>Roots Remember</td>\n    </tr>\n    <tr>\n      <th>2</th>\n      <td>Outlaw Hanky</td>\n    </tr>\n    <tr>\n      <th>3</th>\n      <td>Women Dorado</td>\n    </tr>\n    <tr>\n      <th>4</th>\n      <td>Empire Malkovich</td>\n    </tr>\n    <tr>\n      <th>...</th>\n      <td>...</td>\n    </tr>\n    <tr>\n      <th>64</th>\n      <td>Contact Anonymous</td>\n    </tr>\n    <tr>\n      <th>65</th>\n      <td>Majestic Floats</td>\n    </tr>\n    <tr>\n      <th>66</th>\n      <td>Deep Crusade</td>\n    </tr>\n    <tr>\n      <th>67</th>\n      <td>Effect Gladiator</td>\n    </tr>\n    <tr>\n      <th>68</th>\n      <td>Express Lonely</td>\n    </tr>\n  </tbody>\n</table>\n<p>69 rows × 1 columns</p>\n</div>"
     },
     "execution_count": 92,
     "metadata": {},
     "output_type": "execute_result"
    }
   ],
   "source": [
    "df = pd.read_sql(\"select title from film where film_id in (select film_id from film_actor where actor_id in (select actor_id from actor where (first_name = 'Olympia' AND last_name = 'Pfeiffer') OR (first_name = 'Julia' AND last_name = 'Zellweger') OR (first_name = 'Ellen' AND last_name = 'Presley')))\", con=connection)\n",
    "df"
   ],
   "metadata": {
    "collapsed": false,
    "pycharm": {
     "name": "#%%\n"
    }
   }
  },
  {
   "cell_type": "markdown",
   "source": [],
   "metadata": {
    "collapsed": false
   }
  }
 ],
 "metadata": {
  "kernelspec": {
   "display_name": "Python 3 (ipykernel)",
   "language": "python",
   "name": "python3"
  },
  "language_info": {
   "codemirror_mode": {
    "name": "ipython",
    "version": 3
   },
   "file_extension": ".py",
   "mimetype": "text/x-python",
   "name": "python",
   "nbconvert_exporter": "python",
   "pygments_lexer": "ipython3",
   "version": "3.8.10"
  }
 },
 "nbformat": 4,
 "nbformat_minor": 5
}
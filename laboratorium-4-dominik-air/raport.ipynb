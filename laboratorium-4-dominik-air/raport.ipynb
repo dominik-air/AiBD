{
 "cells": [
  {
   "source": [
    "# <center>Laboratorium Analiza i bazy danych </center>\n",
    "\n",
    "## <center>Łączenie tabel, podzapytania i funkcje agregujące</center>"
   ],
   "cell_type": "markdown",
   "metadata": {}
  },
  {
   "source": [
    "## Przykładowe tabele obrazujące łączenie\n",
    "\n",
    "Do zobrazowania operacji łączenia zostaną użyte tabele:\n",
    "\n",
    "```sql\n",
    "CREATE TABLE shape_a (\n",
    "    id INT PRIMARY KEY,\n",
    "    shape VARCHAR (100) NOT NULL\n",
    ");\n",
    " \n",
    "CREATE TABLE shape_b (\n",
    "    id INT PRIMARY KEY,\n",
    "    shape VARCHAR (100) NOT NULL\n",
    ");\n",
    "```\n",
    " \n",
    "Polecenie CREATE TABLE tworzy tabelę o zadanej nazwie i strukturze. Ogólna postać to:\n",
    "```sql\n",
    "CREATE TABLE tab_name (\n",
    "    col_name1 data_type constrain,\n",
    "    col_name1 data_type constrain,\n",
    "    ...\n",
    ");\n",
    "```\n",
    "Należy uzupełnić ją danymi:\n",
    "```sql\n",
    "INSERT INTO shape_a (id, shape)\n",
    "VALUES\n",
    "    (1, 'Trójkąt'),\n",
    "    (2, 'Kwadrat'),\n",
    "    (3, 'Deltoid'),\n",
    "    (4, 'Traper');\n",
    " \n",
    "INSERT INTO shape_b (id, shape)\n",
    "VALUES\n",
    "    (1, 'Kwadrat'),\n",
    "    (2, 'Trójkąt'),\n",
    "    (3, 'Romb'),\n",
    "    (4, 'Równoległobok');\n",
    "```\n",
    "Komenda INSERT INTO pozwala na dodanie do tabeli rekordów. Ogólna postać to:\n",
    "\n",
    "```sql\n",
    "INSERT INTO tab_name (col1_name, col2_name2, ...) \n",
    "VALUES\n",
    "    (val1_col1, val2_col2),\n",
    "    (val2_col1, val2_col2),\n",
    "    ...\n",
    "```"
   ],
   "cell_type": "markdown",
   "metadata": {}
  },
  {
   "source": [
    "## Inner join \n",
    "\n",
    "Jest to podstawowy rodzaj złączenie. Ten sposób złączenia wybiera  te wiersze, dla których warunek złączenia jest spełniony. W żadnej z łączonych tabel kolumna użyta do łączenia nie może mieć wartości NULL. \n",
    "\n",
    "#### Przykład:\n",
    "```sql\n",
    "SELECT\n",
    "    a.id id_a,\n",
    "    a.shape shape_a,\n",
    "    b.id id_b,\n",
    "    b.shape shape_b\n",
    "FROM\n",
    "    shape_a a\n",
    "INNER JOIN shape_b b ON a.shape = b.shape;\n",
    "```\n",
    "W zapytaniu powyżej użyto *aliasów* nazw tabel i column wynikowych, jest to szczególnie przydatne przy długich nazwach tabel i wprowadza czytelność w zapytaniu.\n",
    "\n",
    "#### Wynik:\n",
    "|id_a|shape_a|id_b|shape_b|\n",
    "|-|-|-|-|\n",
    "|1|Trójkąt|2|Trójkąt|\n",
    "|2|Kwadrat|1|Kwadrat|"
   ],
   "cell_type": "markdown",
   "metadata": {}
  },
  {
   "source": [
    "## OUTER JOIN\n",
    "\n",
    "Istnieją trzy rodzaje złączeń OUTER:\n",
    "- LEFT OUTER JOIN,\n",
    "- RIGHT OUTER JOIN,\n",
    "- FULL OUTER JOIN.\n",
    "\n",
    "### LEFT OUTER JOIN\n",
    "\n",
    "Ten rodzaj złączenie zwróci wszystkie rekordy z lewej tablicy i dopasuje do nich rekordy z prawej tablicy które spełniją zadany warunek złączenia. Jeżeli w prawej tablicy nie występują rekordy spełnijące warunek złączenia z lewą w ich miejscu pojawią się wartości NULL.\n",
    "\n",
    "#### Przykład 1:\n",
    "```sql\n",
    "SELECT\n",
    "    a.id id_a,\n",
    "    a.shape shape_a,\n",
    "    b.id id_b,\n",
    "    b.shape shape_b\n",
    "FROM\n",
    "    shape_a a\n",
    "LEFT JOIN shape_b b ON a.shape = b.shape;\n",
    "```\n",
    "#### Wynik:\n",
    "|id_a|shape_a|id_b|shape_b|\n",
    "|-|-|-|-|\n",
    "|1|Trójkąt|2|Trójkąt|\n",
    "|2|Kwadrat|1|Kwadrat|\n",
    "|3|Deltoid|NULL|NULL|\n",
    "|4|Traper|NULL|NULL|\n",
    "\n",
    "#### Przykład 2:\n",
    "```sql\n",
    "SELECT\n",
    "    b.id id_b,\n",
    "    b.shape shape_b,\n",
    "    a.id id_a,\n",
    "    a.shape shape_a   \n",
    "FROM\n",
    "    shape_b b\n",
    "LEFT JOIN shape_a a ON a.shape = b.shape;\n",
    "```\n",
    "#### Wynik:\n",
    "|id_a|shape_a|id_b|shape_b|\n",
    "|-|-|-|-|\n",
    "|1|Kwadrat|2|Kwadrat|\n",
    "|2|Trójkąt|1|Trójkąt|\n",
    "|3|Romb|NULL|NULL|\n",
    "|4|Równoległobok|NULL|NULL|\n",
    "\n",
    "### RIGHT OUTER JOIN\n",
    "\n",
    "Działa jak left outer join z tym, że prawa tablica w zapytaniu jest brana w całości.\n",
    "\n",
    "#### Przykład:\n",
    "```sql\n",
    "SELECT\n",
    "    a.id id_a,\n",
    "    a.shape shape_a,\n",
    "    b.id id_b,\n",
    "    b.shape shape_b\n",
    "FROM\n",
    "    shape_a a\n",
    "RIGHT JOIN shape_b b ON a.shape = b.shape;\n",
    "```\n",
    "\n",
    "#### Wynik:\n",
    "|id_a|shape_a|id_b|shape_b|\n",
    "|-|-|-|-|\n",
    "|2|Kwadrat|1|Kwadrat|\n",
    "|1|Trójkąt|2|Trójkąt|\n",
    "|NULL|NULL|3|Romb|\n",
    "|NULL|NULL|4|Równoległobok|\n",
    "\n",
    "\n",
    "### FULL OUTER JOIN\n",
    "\n",
    "Jest złączeniem które zwraca:\n",
    "- wiersze dla których warunek złączenia jest spełniony,\n",
    "- wiersze z lewej tabeli dla których nie ma odpowiedników w prawej,\n",
    "- wiersze z prawej tabeli dla których nie ma odpowiedników w lewej. \n",
    "\n",
    "#### Przykład:\n",
    "```sql\n",
    "SELECT\n",
    "    a.id id_a,\n",
    "    a.shape shape_a,\n",
    "    b.id id_b,\n",
    "    b.shape shape_b\n",
    "FROM\n",
    "    shape_a a\n",
    "FULL JOIN shape_b b ON a.shape = b.shape;\n",
    "```\n",
    "|id_a|shape_a|id_b|shape_b|\n",
    "|-|-|-|-|\n",
    "|1|Trójkąt|2|Trójkąt|\n",
    "|2|Kwadrat|1|Kwadrat|\n",
    "|3|Deltoid\"|NULL|NULL|\n",
    "|4|Traper|NULL|NULL|\n",
    "|NULL|NULL|3|Romb|\n",
    "|NULL|NULL|4|Równoległobok|"
   ],
   "cell_type": "markdown",
   "metadata": {}
  },
  {
   "source": [
    "## Podzapytania\n",
    "\n",
    "Podzapytanie zagnieżdżone SELECT znajduje się wewnątrz zewnętrznego zapytania SELECT, np. po klauzuli WHERE, HAVING lub FROM. W przypadku tego rodzaju zapytań w pierwszej kolejności wykonywane są wewnętrzne zapytania SELECT, a ich wynik jest wykorzystywany do zewnętrznego zapytania SELECT. Stąd łatwo zuważyć, że mogą one służyć do poprawy wydajności obsługi zapytania. Należy dobierać podzapytania tak by najbardziej zagnieżdżone podzapytanie zawierało najmniejszy zbiór poszukiwań. \n",
    "\n",
    "#### Przykład:\n",
    "Jeżeli chcemy znaleźć w bazie informację o tytułach filmów zwróconych w zadanym okresie możemy wykonać następujące zapytanie:\n",
    "```sql\n",
    "SELECT\n",
    "   film_id,\n",
    "   title\n",
    "FROM\n",
    "   film\n",
    "WHERE\n",
    "   film_id IN (\n",
    "      SELECT\n",
    "         inventory.film_id\n",
    "      FROM\n",
    "         rental\n",
    "      INNER JOIN inventory ON inventory.inventory_id = rental.inventory_id\n",
    "      WHERE\n",
    "         return_date BETWEEN '2005-05-29'\n",
    "      AND '2005-05-30'\n",
    "   );\n",
    "```\n",
    "\n",
    "#### Wynik\n",
    "|film_id|title|\n",
    "|-|-|\n",
    "|307|Fellowship Autumn|\n",
    "|255|Driving Polish|\n",
    "|388|Gunfight Moon|\n",
    "|130|Celebrity Horn|\n",
    "|563|Massacre Usual|\n",
    "|397|Hanky October|\n",
    "|...|...|\n",
    "\n",
    "### Używanie podzapytań\n",
    "\n",
    "Pod zapytania mogą być używane w :\n",
    "- SELECT,\n",
    "- UPDATE,\n",
    "- DELETE,\n",
    "- Funkcjach agregujących,\n",
    "- Do definiowania tabel tymczasowych.\n",
    "\n",
    "Używając podzapytań zapytania SQL szybko mogą stać się mało czytelne. Przez co będą trudne w zrozumieniu i późniejszym utrzymaniu. W celu analizy zapytań można użyć klauzuli __EXPLAIN__, która przeanalizuje zapytanie. Klauzula ta może służyć również do porównywania wydajności zapytań\n",
    "\n",
    "#### Przykład:\n",
    "```sql\n",
    "EXPLAIN SELECT\n",
    "   *\n",
    "FROM\n",
    "   film\n",
    "```"
   ],
   "cell_type": "markdown",
   "metadata": {}
  },
  {
   "source": [
    "## Funkcje agregujące\n",
    "\n",
    "Funkcje agregujące wykonują obliczenia na zestawie wierszy i zwracają pojedynczy wiersz. PostgreSQL udostępnia wszystkie standardowe funkcje agregujące SQL w następujący sposób:\n",
    "- AVG () - zwraca średnią wartość.\n",
    "- COUNT () - zwraca liczbę wartości.\n",
    "- MAX () - zwraca maksymalną wartość.\n",
    "- MIN () - zwraca minimalną wartość.\n",
    "- SUM () - zwraca sumę wszystkich lub różnych wartości.\n",
    "\n",
    "Pełna lista funkcji agregującej: https://www.postgresql.org/docs/9.5/functions-aggregate.html\n",
    "\n",
    "Często używamy funkcji agregujących z klauzulą GROUP BY w instrukcji SELECT. W tych przypadkach klauzula GROUP BY dzieli zestaw wyników na grupy wierszy i funkcja agregująca wykonuje obliczenia dla każdej grupy, np. maksimum, minimum, średnia itp. Funkcji agregujących można używać funkcji agregujących jako wyrażeń tylko w następujących klauzulach: SELECT i HAVING.\n",
    "\n",
    "### GROUP BY\n",
    "Klauzula GROUP BY dzieli wiersze zwrócone z instrukcji SELECT na grupy. Dla  każdej grupy można zastosować funkcję agregującą, np. SUM aby obliczyć sumę pozycji lub\n",
    "COUNT aby uzyskać liczbę elementów w grupach.\n",
    "\n",
    "Poniższa instrukcja ilustruje składnię klauzuli GROUP BY:\n",
    "```sql\n",
    "SELECT\n",
    "    column_1,\n",
    "    aggregate_function(column_2)\n",
    "FROM\n",
    "    tbl_name\n",
    "GROUP BY\n",
    "    column_1;\n",
    "```\n",
    "Klauzula GROUP BY musi pojawić się zaraz po klauzuli FROM lub WHERE, n0astępnie GROUP BY zawiera listę  kolumna oddzielonych przecinkami.\n",
    "\n",
    "### HAVING\n",
    "Często używamy klauzuli HAVING w połączeniu z klauzulą GROUP BY do filtrowania wierszy grup\n",
    "które nie spełniają określonego warunku.\n",
    "\n",
    "Poniższa instrukcja ilustruje typową składnię klauzuli HAVING:\n",
    "```sql\n",
    "SELECT\n",
    "    column_1,\n",
    "    aggregate_function (column_2)\n",
    "FROM\n",
    "    tbl_name\n",
    "GROUP BY\n",
    "    column_1\n",
    "HAVING\n",
    "    condition;\n",
    "```\n",
    "Klauzula HAVING ustawia warunek dla wierszy grup utworzonych przez klauzulę GROUP BY.\n",
    "\n",
    "Klauzula GROUP BY ma zastosowanie, podczas gdy klauzula WHERE określa wcześniej warunki dla poszczególnych wierszy."
   ],
   "cell_type": "markdown",
   "metadata": {}
  },
  {
   "cell_type": "markdown",
   "source": [
    "Konfiguracja połączenia z bazą danych."
   ],
   "metadata": {
    "collapsed": false,
    "pycharm": {
     "name": "#%% md\n"
    }
   }
  },
  {
   "cell_type": "code",
   "execution_count": 264,
   "outputs": [],
   "source": [
    "import psycopg2 as pg\n",
    "import pandas as pd\n",
    "\n",
    "connection = pg.connect(host='pgsql-196447.vipserv.org', port=5432, dbname='wbauer_adb', user='wbauer_adb', password='adb2020')"
   ],
   "metadata": {
    "collapsed": false,
    "pycharm": {
     "name": "#%%\n"
    }
   }
  },
  {
   "cell_type": "markdown",
   "source": [
    "## Zadania wprowadzające\n",
    "Wykonaj zapytania przy użyciu DBMS:\n",
    "\n",
    "1. Znajdź listę wszystkich filmów o tej samej długości."
   ],
   "metadata": {
    "collapsed": false
   }
  },
  {
   "cell_type": "code",
   "execution_count": 265,
   "outputs": [
    {
     "data": {
      "text/plain": "Empty DataFrame\nColumns: []\nIndex: [(46, Alien Center), (46, Iron Moon), (46, Kwai Homeward), (46, Labyrinth League), (46, Ridgemont Submarine), (47, Divorce Shining), (47, Downhill Enough), (47, Halloween Nuts), (47, Hanover Galaxy), (47, Hawk Chill), (47, Shanghai Tycoon), (47, Suspects Quills), (48, Ace Goldfinger), (48, Heaven Freedom), (48, Midsummer Groundhog), (48, Notting Speakeasy), (48, Odds Boogie), (48, Paradise Sabrina), (48, Pelican Comforts), (48, Rush Goodfellas), (48, Stepmom Dream), (48, Sunset Racer), (48, Valentine Vanishing), (49, Doors President), (49, Grosse Wonderful), (49, Heavenly Gun), (49, Hook Chariots), (49, Hurricane Affair), (50, Adaptation Holes), (50, Blues Instinct), (50, Crossing Divorce), (50, Lion Uncut), (50, Muppet Mile), (50, Natural Stock), (50, Pilot Hoosiers), (50, Smoking Barbarella), (50, Zorro Ark), (51, Champion Flatliners), (51, Deep Crusade), (51, English Bulworth), (51, Excitement Eve), (51, Frisco Forrest), (51, Hall Cassidy), (51, Simon North), (52, Caddyshack Jedi), (52, Harper Dying), (52, Lust Lock), (52, Side Ark), (52, Spartacus Cheaper), (52, Trojan Tomorrow), (52, Westward Seabiscuit), (53, Beneath Rush), (53, Cabin Flash), (53, Gump Date), (53, Magnificent Chitty), (53, Movie Shakespeare), (53, Primary Glass), (53, Summer Scarface), (53, Tequila Past), (53, Thin Sagebrush), (54, Airport Pollock), (54, Go Purple), (54, Juggler Hardly), (54, Kill Brotherhood), (54, October Submarine), (54, Sense Greek), (55, Coast Rainbow), (55, Wolves Desire), (56, Bride Intrigue), (56, Cupboard Sinners), (56, Destiny Saturday), (56, Goodfellas Salute), (56, Matrix Snowman), (57, Alter Victory), (57, Cranes Reservoir), (57, Dawn Pond), (57, Doctor Grail), (57, Mosquito Armageddon), (57, Noon Papi), (57, Storm Happiness), (58, Closer Bang), (58, Dances None), (58, Fantasy Troopers), (58, Jekyll Frogmen), (58, Oklahoma Jumanji), (58, Rings Heartbreakers), (58, Super Wyoming), (59, Commandments Express), (59, Daughter Madigan), (59, Heartbreakers Bright), (59, Interview Liaisons), (59, Jet Neighbors), (59, Legend Jedi), (59, Minority Kiss), (59, Vision Torque), (59, Whisperer Giant), (60, Bubble Grosse), (60, Jersey Sassy), (60, Mockingbird Hollywood), (60, Phantom Glory), ...]\n\n[1000 rows x 0 columns]",
      "text/html": "<div>\n<style scoped>\n    .dataframe tbody tr th:only-of-type {\n        vertical-align: middle;\n    }\n\n    .dataframe tbody tr th {\n        vertical-align: top;\n    }\n\n    .dataframe thead th {\n        text-align: right;\n    }\n</style>\n<table border=\"1\" class=\"dataframe\">\n  <thead>\n    <tr style=\"text-align: right;\">\n      <th></th>\n      <th></th>\n    </tr>\n    <tr>\n      <th>length</th>\n      <th>title</th>\n    </tr>\n  </thead>\n  <tbody>\n    <tr>\n      <th rowspan=\"5\" valign=\"top\">46</th>\n      <th>Alien Center</th>\n    </tr>\n    <tr>\n      <th>Iron Moon</th>\n    </tr>\n    <tr>\n      <th>Kwai Homeward</th>\n    </tr>\n    <tr>\n      <th>Labyrinth League</th>\n    </tr>\n    <tr>\n      <th>Ridgemont Submarine</th>\n    </tr>\n    <tr>\n      <th>...</th>\n      <th>...</th>\n    </tr>\n    <tr>\n      <th rowspan=\"5\" valign=\"top\">185</th>\n      <th>Muscle Bright</th>\n    </tr>\n    <tr>\n      <th>Pond Seattle</th>\n    </tr>\n    <tr>\n      <th>Soldiers Evolution</th>\n    </tr>\n    <tr>\n      <th>Sweet Brotherhood</th>\n    </tr>\n    <tr>\n      <th>Worst Banger</th>\n    </tr>\n  </tbody>\n</table>\n<p>1000 rows × 0 columns</p>\n</div>"
     },
     "execution_count": 265,
     "metadata": {},
     "output_type": "execute_result"
    }
   ],
   "source": [
    "pd.read_sql('SELECT title, length FROM film', con=connection).pivot(index=['length', 'title'], columns=[]).sort_index()"
   ],
   "metadata": {
    "collapsed": false,
    "pycharm": {
     "name": "#%%\n"
    }
   }
  },
  {
   "cell_type": "markdown",
   "source": [],
   "metadata": {
    "collapsed": false
   }
  },
  {
   "cell_type": "markdown",
   "source": [
    "2. Znajdź wszystkich klientów mieszkających w tym samym mieście."
   ],
   "metadata": {
    "collapsed": false,
    "pycharm": {
     "name": "#%% md\n"
    }
   }
  },
  {
   "cell_type": "code",
   "execution_count": 266,
   "outputs": [
    {
     "data": {
      "text/plain": "Empty DataFrame\nColumns: []\nIndex: [(Aurora, Clinton, Buford), (Aurora, Scott, Shelley), (London, Cecil, Vines), (London, Mattie, Hoffman)]",
      "text/html": "<div>\n<style scoped>\n    .dataframe tbody tr th:only-of-type {\n        vertical-align: middle;\n    }\n\n    .dataframe tbody tr th {\n        vertical-align: top;\n    }\n\n    .dataframe thead th {\n        text-align: right;\n    }\n</style>\n<table border=\"1\" class=\"dataframe\">\n  <thead>\n    <tr style=\"text-align: right;\">\n      <th></th>\n      <th></th>\n      <th></th>\n    </tr>\n    <tr>\n      <th>city</th>\n      <th>first_name</th>\n      <th>last_name</th>\n    </tr>\n  </thead>\n  <tbody>\n    <tr>\n      <th rowspan=\"2\" valign=\"top\">Aurora</th>\n      <th>Clinton</th>\n      <th>Buford</th>\n    </tr>\n    <tr>\n      <th>Scott</th>\n      <th>Shelley</th>\n    </tr>\n    <tr>\n      <th rowspan=\"2\" valign=\"top\">London</th>\n      <th>Cecil</th>\n      <th>Vines</th>\n    </tr>\n    <tr>\n      <th>Mattie</th>\n      <th>Hoffman</th>\n    </tr>\n  </tbody>\n</table>\n</div>"
     },
     "execution_count": 266,
     "metadata": {},
     "output_type": "execute_result"
    }
   ],
   "source": [
    "pd.read_sql('SELECT c.first_name, c.last_name, c2.city FROM customer c LEFT JOIN address a ON c.address_id = a.address_id '\n",
    "            'LEFT JOIN city c2 ON a.city_id = c2.city_id', con=connection).groupby('city').filter(lambda customers: len(customers) > 1).pivot(index=['city', 'first_name', 'last_name'], columns=[]).sort_index()"
   ],
   "metadata": {
    "collapsed": false,
    "pycharm": {
     "name": "#%%\n"
    }
   }
  },
  {
   "cell_type": "markdown",
   "source": [
    "Jak się okazuje klienci"
   ],
   "metadata": {
    "collapsed": false,
    "pycharm": {
     "name": "#%% md\n"
    }
   }
  },
  {
   "cell_type": "markdown",
   "source": [
    "3. Oblicz średni koszt wypożyczenia wszystkich filmów."
   ],
   "metadata": {
    "collapsed": false,
    "pycharm": {
     "name": "#%% md\n"
    }
   }
  },
  {
   "cell_type": "code",
   "execution_count": 267,
   "outputs": [
    {
     "data": {
      "text/plain": "                           title   avg\n0                 Frontier Cabin  4.99\n1    Arachnophobia Rollercoaster  2.99\n2             Cruelty Unforgiven  0.99\n3         Intolerable Intentions  4.99\n4                Center Dinosaur  4.99\n..                           ...   ...\n995                   Luke Mummy  2.99\n996                     Spy Mile  2.99\n997                 Tramp Others  0.99\n998           Butterfly Chocolat  0.99\n999                   Sling Luke  0.99\n\n[1000 rows x 2 columns]",
      "text/html": "<div>\n<style scoped>\n    .dataframe tbody tr th:only-of-type {\n        vertical-align: middle;\n    }\n\n    .dataframe tbody tr th {\n        vertical-align: top;\n    }\n\n    .dataframe thead th {\n        text-align: right;\n    }\n</style>\n<table border=\"1\" class=\"dataframe\">\n  <thead>\n    <tr style=\"text-align: right;\">\n      <th></th>\n      <th>title</th>\n      <th>avg</th>\n    </tr>\n  </thead>\n  <tbody>\n    <tr>\n      <th>0</th>\n      <td>Frontier Cabin</td>\n      <td>4.99</td>\n    </tr>\n    <tr>\n      <th>1</th>\n      <td>Arachnophobia Rollercoaster</td>\n      <td>2.99</td>\n    </tr>\n    <tr>\n      <th>2</th>\n      <td>Cruelty Unforgiven</td>\n      <td>0.99</td>\n    </tr>\n    <tr>\n      <th>3</th>\n      <td>Intolerable Intentions</td>\n      <td>4.99</td>\n    </tr>\n    <tr>\n      <th>4</th>\n      <td>Center Dinosaur</td>\n      <td>4.99</td>\n    </tr>\n    <tr>\n      <th>...</th>\n      <td>...</td>\n      <td>...</td>\n    </tr>\n    <tr>\n      <th>995</th>\n      <td>Luke Mummy</td>\n      <td>2.99</td>\n    </tr>\n    <tr>\n      <th>996</th>\n      <td>Spy Mile</td>\n      <td>2.99</td>\n    </tr>\n    <tr>\n      <th>997</th>\n      <td>Tramp Others</td>\n      <td>0.99</td>\n    </tr>\n    <tr>\n      <th>998</th>\n      <td>Butterfly Chocolat</td>\n      <td>0.99</td>\n    </tr>\n    <tr>\n      <th>999</th>\n      <td>Sling Luke</td>\n      <td>0.99</td>\n    </tr>\n  </tbody>\n</table>\n<p>1000 rows × 2 columns</p>\n</div>"
     },
     "execution_count": 267,
     "metadata": {},
     "output_type": "execute_result"
    }
   ],
   "source": [
    "pd.read_sql('SELECT f.title, AVG(f.rental_rate) '\n",
    "            'FROM film f '\n",
    "            'GROUP BY f.title', con=connection)"
   ],
   "metadata": {
    "collapsed": false,
    "pycharm": {
     "name": "#%%\n"
    }
   }
  },
  {
   "cell_type": "markdown",
   "source": [
    "4. Oblicz i wyświetl liczbę filmów we wszystkich kategoriach."
   ],
   "metadata": {
    "collapsed": false,
    "pycharm": {
     "name": "#%% md\n"
    }
   }
  },
  {
   "cell_type": "code",
   "execution_count": 268,
   "outputs": [
    {
     "data": {
      "text/plain": "       category  films_in_category\n0        Horror                 56\n1        Comedy                 58\n2        Sci-Fi                 61\n3         Drama                 62\n4       Foreign                 73\n5      Classics                 57\n6         Games                 61\n7           New                 63\n8        Travel                 57\n9         Music                 51\n10       Action                 64\n11  Documentary                 68\n12       Sports                 74\n13    Animation                 66\n14       Family                 69\n15     Children                 60",
      "text/html": "<div>\n<style scoped>\n    .dataframe tbody tr th:only-of-type {\n        vertical-align: middle;\n    }\n\n    .dataframe tbody tr th {\n        vertical-align: top;\n    }\n\n    .dataframe thead th {\n        text-align: right;\n    }\n</style>\n<table border=\"1\" class=\"dataframe\">\n  <thead>\n    <tr style=\"text-align: right;\">\n      <th></th>\n      <th>category</th>\n      <th>films_in_category</th>\n    </tr>\n  </thead>\n  <tbody>\n    <tr>\n      <th>0</th>\n      <td>Horror</td>\n      <td>56</td>\n    </tr>\n    <tr>\n      <th>1</th>\n      <td>Comedy</td>\n      <td>58</td>\n    </tr>\n    <tr>\n      <th>2</th>\n      <td>Sci-Fi</td>\n      <td>61</td>\n    </tr>\n    <tr>\n      <th>3</th>\n      <td>Drama</td>\n      <td>62</td>\n    </tr>\n    <tr>\n      <th>4</th>\n      <td>Foreign</td>\n      <td>73</td>\n    </tr>\n    <tr>\n      <th>5</th>\n      <td>Classics</td>\n      <td>57</td>\n    </tr>\n    <tr>\n      <th>6</th>\n      <td>Games</td>\n      <td>61</td>\n    </tr>\n    <tr>\n      <th>7</th>\n      <td>New</td>\n      <td>63</td>\n    </tr>\n    <tr>\n      <th>8</th>\n      <td>Travel</td>\n      <td>57</td>\n    </tr>\n    <tr>\n      <th>9</th>\n      <td>Music</td>\n      <td>51</td>\n    </tr>\n    <tr>\n      <th>10</th>\n      <td>Action</td>\n      <td>64</td>\n    </tr>\n    <tr>\n      <th>11</th>\n      <td>Documentary</td>\n      <td>68</td>\n    </tr>\n    <tr>\n      <th>12</th>\n      <td>Sports</td>\n      <td>74</td>\n    </tr>\n    <tr>\n      <th>13</th>\n      <td>Animation</td>\n      <td>66</td>\n    </tr>\n    <tr>\n      <th>14</th>\n      <td>Family</td>\n      <td>69</td>\n    </tr>\n    <tr>\n      <th>15</th>\n      <td>Children</td>\n      <td>60</td>\n    </tr>\n  </tbody>\n</table>\n</div>"
     },
     "execution_count": 268,
     "metadata": {},
     "output_type": "execute_result"
    }
   ],
   "source": [
    "pd.read_sql('SELECT c.name as category, COUNT(f.title) AS films_in_category FROM film f LEFT JOIN film_category fc ON f.film_id = fc.film_id LEFT JOIN category c ON fc.category_id = c.category_id GROUP BY c.name', con=connection)"
   ],
   "metadata": {
    "collapsed": false,
    "pycharm": {
     "name": "#%%\n"
    }
   }
  },
  {
   "cell_type": "markdown",
   "source": [
    "5. Wyświetl liczbę wszystkich klientów pogrupowanych według kraju."
   ],
   "metadata": {
    "collapsed": false,
    "pycharm": {
     "name": "#%% md\n"
    }
   }
  },
  {
   "cell_type": "code",
   "execution_count": 269,
   "outputs": [
    {
     "data": {
      "text/plain": "                  country  customer_count\n0                Cambodia               2\n1                  Turkey              15\n2                 Germany               7\n3              Madagascar               1\n4                    Chad               1\n..                    ...             ...\n103                 Sudan               2\n104  United Arab Emirates               3\n105              Tanzania               3\n106      French Polynesia               2\n107              Bulgaria               2\n\n[108 rows x 2 columns]",
      "text/html": "<div>\n<style scoped>\n    .dataframe tbody tr th:only-of-type {\n        vertical-align: middle;\n    }\n\n    .dataframe tbody tr th {\n        vertical-align: top;\n    }\n\n    .dataframe thead th {\n        text-align: right;\n    }\n</style>\n<table border=\"1\" class=\"dataframe\">\n  <thead>\n    <tr style=\"text-align: right;\">\n      <th></th>\n      <th>country</th>\n      <th>customer_count</th>\n    </tr>\n  </thead>\n  <tbody>\n    <tr>\n      <th>0</th>\n      <td>Cambodia</td>\n      <td>2</td>\n    </tr>\n    <tr>\n      <th>1</th>\n      <td>Turkey</td>\n      <td>15</td>\n    </tr>\n    <tr>\n      <th>2</th>\n      <td>Germany</td>\n      <td>7</td>\n    </tr>\n    <tr>\n      <th>3</th>\n      <td>Madagascar</td>\n      <td>1</td>\n    </tr>\n    <tr>\n      <th>4</th>\n      <td>Chad</td>\n      <td>1</td>\n    </tr>\n    <tr>\n      <th>...</th>\n      <td>...</td>\n      <td>...</td>\n    </tr>\n    <tr>\n      <th>103</th>\n      <td>Sudan</td>\n      <td>2</td>\n    </tr>\n    <tr>\n      <th>104</th>\n      <td>United Arab Emirates</td>\n      <td>3</td>\n    </tr>\n    <tr>\n      <th>105</th>\n      <td>Tanzania</td>\n      <td>3</td>\n    </tr>\n    <tr>\n      <th>106</th>\n      <td>French Polynesia</td>\n      <td>2</td>\n    </tr>\n    <tr>\n      <th>107</th>\n      <td>Bulgaria</td>\n      <td>2</td>\n    </tr>\n  </tbody>\n</table>\n<p>108 rows × 2 columns</p>\n</div>"
     },
     "execution_count": 269,
     "metadata": {},
     "output_type": "execute_result"
    }
   ],
   "source": [
    "pd.read_sql('SELECT country.country AS country, COUNT(c.customer_id) AS customer_count FROM customer c INNER JOIN address a ON c.address_id = a.address_id INNER JOIN city ON  city.city_id = a.city_id INNER JOIN country ON city.country_id = country.country_id GROUP BY country.country', con=connection)"
   ],
   "metadata": {
    "collapsed": false,
    "pycharm": {
     "name": "#%%\n"
    }
   }
  },
  {
   "cell_type": "markdown",
   "source": [
    "6. Wyświetl informacje o sklepie, który ma więcej niż 100 klientów i mniej niż 300 klientów."
   ],
   "metadata": {
    "collapsed": false,
    "pycharm": {
     "name": "#%% md\n"
    }
   }
  },
  {
   "cell_type": "code",
   "execution_count": 270,
   "outputs": [
    {
     "data": {
      "text/plain": "   store_id  manager_staff_id  address_id         last_update\n0         2                 2           2 2006-02-15 09:57:12",
      "text/html": "<div>\n<style scoped>\n    .dataframe tbody tr th:only-of-type {\n        vertical-align: middle;\n    }\n\n    .dataframe tbody tr th {\n        vertical-align: top;\n    }\n\n    .dataframe thead th {\n        text-align: right;\n    }\n</style>\n<table border=\"1\" class=\"dataframe\">\n  <thead>\n    <tr style=\"text-align: right;\">\n      <th></th>\n      <th>store_id</th>\n      <th>manager_staff_id</th>\n      <th>address_id</th>\n      <th>last_update</th>\n    </tr>\n  </thead>\n  <tbody>\n    <tr>\n      <th>0</th>\n      <td>2</td>\n      <td>2</td>\n      <td>2</td>\n      <td>2006-02-15 09:57:12</td>\n    </tr>\n  </tbody>\n</table>\n</div>"
     },
     "execution_count": 270,
     "metadata": {},
     "output_type": "execute_result"
    }
   ],
   "source": [
    "pd.read_sql('SELECT * FROM store WHERE store_id IN (SELECT store_id  FROM customer GROUP BY store_id HAVING (COUNT(store_id) > 100 AND COUNT(store_id) < 300))', con=connection)"
   ],
   "metadata": {
    "collapsed": false,
    "pycharm": {
     "name": "#%%\n"
    }
   }
  },
  {
   "cell_type": "markdown",
   "source": [
    "7. Wybierz wszystkich klientów, którzy oglądali filmy ponad 200 godzin."
   ],
   "metadata": {
    "collapsed": false,
    "pycharm": {
     "name": "#%% md\n"
    }
   }
  },
  {
   "cell_type": "code",
   "execution_count": 271,
   "outputs": [
    {
     "data": {
      "text/plain": "Empty DataFrame\nColumns: [customer_id]\nIndex: []",
      "text/html": "<div>\n<style scoped>\n    .dataframe tbody tr th:only-of-type {\n        vertical-align: middle;\n    }\n\n    .dataframe tbody tr th {\n        vertical-align: top;\n    }\n\n    .dataframe thead th {\n        text-align: right;\n    }\n</style>\n<table border=\"1\" class=\"dataframe\">\n  <thead>\n    <tr style=\"text-align: right;\">\n      <th></th>\n      <th>customer_id</th>\n    </tr>\n  </thead>\n  <tbody>\n  </tbody>\n</table>\n</div>"
     },
     "execution_count": 271,
     "metadata": {},
     "output_type": "execute_result"
    }
   ],
   "source": [
    "# zakładam że każde wypożyczenie liczy się jako obejrzenie tego filmu jeden raz przez danego klienta\n",
    "pd.read_sql('SELECT r.customer_id FROM rental r INNER JOIN customer c ON r.customer_id = c.customer_id RIGHT JOIN inventory i ON r.inventory_id = i.inventory_id INNER JOIN film f ON i.film_id = f.film_id GROUP BY r.customer_id HAVING SUM(f.length) / 60 > 200', con=connection)\n",
    "# i wychodzi na to że z tym założeniem nikt nie oglądał filmów przez 200h"
   ],
   "metadata": {
    "collapsed": false,
    "pycharm": {
     "name": "#%%\n"
    }
   }
  },
  {
   "cell_type": "markdown",
   "source": [
    "8. Oblicz średnią wartość wypożyczenia filmu."
   ],
   "metadata": {
    "collapsed": false,
    "pycharm": {
     "name": "#%% md\n"
    }
   }
  },
  {
   "cell_type": "code",
   "execution_count": 272,
   "outputs": [
    {
     "data": {
      "text/plain": "   avg_film_rental_rate\n0                  2.98",
      "text/html": "<div>\n<style scoped>\n    .dataframe tbody tr th:only-of-type {\n        vertical-align: middle;\n    }\n\n    .dataframe tbody tr th {\n        vertical-align: top;\n    }\n\n    .dataframe thead th {\n        text-align: right;\n    }\n</style>\n<table border=\"1\" class=\"dataframe\">\n  <thead>\n    <tr style=\"text-align: right;\">\n      <th></th>\n      <th>avg_film_rental_rate</th>\n    </tr>\n  </thead>\n  <tbody>\n    <tr>\n      <th>0</th>\n      <td>2.98</td>\n    </tr>\n  </tbody>\n</table>\n</div>"
     },
     "execution_count": 272,
     "metadata": {},
     "output_type": "execute_result"
    }
   ],
   "source": [
    "pd.read_sql('SELECT AVG(rental_rate) AS avg_film_rental_rate FROM film', con=connection)"
   ],
   "metadata": {
    "collapsed": false,
    "pycharm": {
     "name": "#%%\n"
    }
   }
  },
  {
   "cell_type": "markdown",
   "source": [
    "9. Oblicz średnią wartość długości filmu we wszystkich kategoriach."
   ],
   "metadata": {
    "collapsed": false,
    "pycharm": {
     "name": "#%% md\n"
    }
   }
  },
  {
   "cell_type": "code",
   "execution_count": 273,
   "outputs": [
    {
     "data": {
      "text/plain": "       category  avg_length\n0        Horror  112.482143\n1        Comedy  115.827586\n2        Sci-Fi  108.196721\n3         Drama  120.838710\n4       Foreign  121.698630\n5      Classics  111.666667\n6         Games  127.836066\n7           New  111.126984\n8        Travel  113.315789\n9         Music  113.647059\n10       Action  111.609375\n11  Documentary  108.750000\n12       Sports  128.202703\n13    Animation  111.015152\n14       Family  114.782609\n15     Children  109.800000",
      "text/html": "<div>\n<style scoped>\n    .dataframe tbody tr th:only-of-type {\n        vertical-align: middle;\n    }\n\n    .dataframe tbody tr th {\n        vertical-align: top;\n    }\n\n    .dataframe thead th {\n        text-align: right;\n    }\n</style>\n<table border=\"1\" class=\"dataframe\">\n  <thead>\n    <tr style=\"text-align: right;\">\n      <th></th>\n      <th>category</th>\n      <th>avg_length</th>\n    </tr>\n  </thead>\n  <tbody>\n    <tr>\n      <th>0</th>\n      <td>Horror</td>\n      <td>112.482143</td>\n    </tr>\n    <tr>\n      <th>1</th>\n      <td>Comedy</td>\n      <td>115.827586</td>\n    </tr>\n    <tr>\n      <th>2</th>\n      <td>Sci-Fi</td>\n      <td>108.196721</td>\n    </tr>\n    <tr>\n      <th>3</th>\n      <td>Drama</td>\n      <td>120.838710</td>\n    </tr>\n    <tr>\n      <th>4</th>\n      <td>Foreign</td>\n      <td>121.698630</td>\n    </tr>\n    <tr>\n      <th>5</th>\n      <td>Classics</td>\n      <td>111.666667</td>\n    </tr>\n    <tr>\n      <th>6</th>\n      <td>Games</td>\n      <td>127.836066</td>\n    </tr>\n    <tr>\n      <th>7</th>\n      <td>New</td>\n      <td>111.126984</td>\n    </tr>\n    <tr>\n      <th>8</th>\n      <td>Travel</td>\n      <td>113.315789</td>\n    </tr>\n    <tr>\n      <th>9</th>\n      <td>Music</td>\n      <td>113.647059</td>\n    </tr>\n    <tr>\n      <th>10</th>\n      <td>Action</td>\n      <td>111.609375</td>\n    </tr>\n    <tr>\n      <th>11</th>\n      <td>Documentary</td>\n      <td>108.750000</td>\n    </tr>\n    <tr>\n      <th>12</th>\n      <td>Sports</td>\n      <td>128.202703</td>\n    </tr>\n    <tr>\n      <th>13</th>\n      <td>Animation</td>\n      <td>111.015152</td>\n    </tr>\n    <tr>\n      <th>14</th>\n      <td>Family</td>\n      <td>114.782609</td>\n    </tr>\n    <tr>\n      <th>15</th>\n      <td>Children</td>\n      <td>109.800000</td>\n    </tr>\n  </tbody>\n</table>\n</div>"
     },
     "execution_count": 273,
     "metadata": {},
     "output_type": "execute_result"
    }
   ],
   "source": [
    "pd.read_sql('SELECT c.name as category, AVG(f.length) AS avg_length FROM film f LEFT JOIN film_category fc ON f.film_id = fc.film_id LEFT JOIN category c ON fc.category_id = c.category_id GROUP BY c.name', con=connection)"
   ],
   "metadata": {
    "collapsed": false,
    "pycharm": {
     "name": "#%%\n"
    }
   }
  },
  {
   "cell_type": "code",
   "execution_count": 273,
   "outputs": [],
   "source": [],
   "metadata": {
    "collapsed": false,
    "pycharm": {
     "name": "#%%\n"
    }
   }
  },
  {
   "cell_type": "markdown",
   "source": [
    "10. Znajdź najdłuższe tytuły filmowe we wszystkich kategoriach."
   ],
   "metadata": {
    "collapsed": false,
    "pycharm": {
     "name": "#%% md\n"
    }
   }
  },
  {
   "cell_type": "code",
   "execution_count": 274,
   "outputs": [
    {
     "data": {
      "text/plain": "Empty DataFrame\nColumns: []\nIndex: [(Action, 23, Entrapment Satisfaction), (Animation, 22, Telemark Heartbreakers), (Children, 20, Heartbreakers Bright), (Children, 20, Microcosmos Paradise), (Children, 20, Sweethearts Suspects), (Classics, 23, Extraordinary Conquerer), (Comedy, 23, Trainspotting Strangers), (Documentary, 22, Deliverance Mulholland), (Documentary, 22, Intolerable Intentions), (Drama, 22, Goldfinger Sensibility), (Family, 22, Resurrection Silverado), (Foreign, 20, Ballroom Mockingbird), (Foreign, 20, Impossible Prejudice), (Foreign, 20, Reservoir Adaptation), (Games, 21, Bulworth Commandments), (Games, 21, Creatures Shakespeare), (Horror, 27, Arachnophobia Rollercoaster), (Music, 22, Confidential Interview), (New, 21, Flamingos Connecticut), (Sci-Fi, 20, Barbarella Streetcar), (Sci-Fi, 20, Cincinatti Whisperer), (Sci-Fi, 20, Silverado Goldfinger), (Sci-Fi, 20, Unforgiven Zoolander), (Sci-Fi, 20, Wonderland Christmas), (Sports, 25, Satisfaction Confidential), (Travel, 23, Desperate Trainspotting)]",
      "text/html": "<div>\n<style scoped>\n    .dataframe tbody tr th:only-of-type {\n        vertical-align: middle;\n    }\n\n    .dataframe tbody tr th {\n        vertical-align: top;\n    }\n\n    .dataframe thead th {\n        text-align: right;\n    }\n</style>\n<table border=\"1\" class=\"dataframe\">\n  <thead>\n    <tr style=\"text-align: right;\">\n      <th></th>\n      <th></th>\n      <th></th>\n    </tr>\n    <tr>\n      <th>category</th>\n      <th>title_len</th>\n      <th>longest_title</th>\n    </tr>\n  </thead>\n  <tbody>\n    <tr>\n      <th>Action</th>\n      <th>23</th>\n      <th>Entrapment Satisfaction</th>\n    </tr>\n    <tr>\n      <th>Animation</th>\n      <th>22</th>\n      <th>Telemark Heartbreakers</th>\n    </tr>\n    <tr>\n      <th rowspan=\"3\" valign=\"top\">Children</th>\n      <th rowspan=\"3\" valign=\"top\">20</th>\n      <th>Heartbreakers Bright</th>\n    </tr>\n    <tr>\n      <th>Microcosmos Paradise</th>\n    </tr>\n    <tr>\n      <th>Sweethearts Suspects</th>\n    </tr>\n    <tr>\n      <th>Classics</th>\n      <th>23</th>\n      <th>Extraordinary Conquerer</th>\n    </tr>\n    <tr>\n      <th>Comedy</th>\n      <th>23</th>\n      <th>Trainspotting Strangers</th>\n    </tr>\n    <tr>\n      <th rowspan=\"2\" valign=\"top\">Documentary</th>\n      <th rowspan=\"2\" valign=\"top\">22</th>\n      <th>Deliverance Mulholland</th>\n    </tr>\n    <tr>\n      <th>Intolerable Intentions</th>\n    </tr>\n    <tr>\n      <th>Drama</th>\n      <th>22</th>\n      <th>Goldfinger Sensibility</th>\n    </tr>\n    <tr>\n      <th>Family</th>\n      <th>22</th>\n      <th>Resurrection Silverado</th>\n    </tr>\n    <tr>\n      <th rowspan=\"3\" valign=\"top\">Foreign</th>\n      <th rowspan=\"3\" valign=\"top\">20</th>\n      <th>Ballroom Mockingbird</th>\n    </tr>\n    <tr>\n      <th>Impossible Prejudice</th>\n    </tr>\n    <tr>\n      <th>Reservoir Adaptation</th>\n    </tr>\n    <tr>\n      <th rowspan=\"2\" valign=\"top\">Games</th>\n      <th rowspan=\"2\" valign=\"top\">21</th>\n      <th>Bulworth Commandments</th>\n    </tr>\n    <tr>\n      <th>Creatures Shakespeare</th>\n    </tr>\n    <tr>\n      <th>Horror</th>\n      <th>27</th>\n      <th>Arachnophobia Rollercoaster</th>\n    </tr>\n    <tr>\n      <th>Music</th>\n      <th>22</th>\n      <th>Confidential Interview</th>\n    </tr>\n    <tr>\n      <th>New</th>\n      <th>21</th>\n      <th>Flamingos Connecticut</th>\n    </tr>\n    <tr>\n      <th rowspan=\"5\" valign=\"top\">Sci-Fi</th>\n      <th rowspan=\"5\" valign=\"top\">20</th>\n      <th>Barbarella Streetcar</th>\n    </tr>\n    <tr>\n      <th>Cincinatti Whisperer</th>\n    </tr>\n    <tr>\n      <th>Silverado Goldfinger</th>\n    </tr>\n    <tr>\n      <th>Unforgiven Zoolander</th>\n    </tr>\n    <tr>\n      <th>Wonderland Christmas</th>\n    </tr>\n    <tr>\n      <th>Sports</th>\n      <th>25</th>\n      <th>Satisfaction Confidential</th>\n    </tr>\n    <tr>\n      <th>Travel</th>\n      <th>23</th>\n      <th>Desperate Trainspotting</th>\n    </tr>\n  </tbody>\n</table>\n</div>"
     },
     "execution_count": 274,
     "metadata": {},
     "output_type": "execute_result"
    }
   ],
   "source": [
    "pd.read_sql('SELECT * '\n",
    "            'INTO TEMPORARY lt_temp '\n",
    "            'FROM '\n",
    "            '(SELECT c.category_id, c.name as category_name, MAX(LENGTH(f.title)) AS longest_title_len '\n",
    "            'FROM film f '\n",
    "            'INNER JOIN film_category fc ON f.film_id = fc.film_id '\n",
    "            'INNER JOIN category c ON fc.category_id = c.category_id '\n",
    "            'GROUP BY c.category_id, c.name) AS foo; '\n",
    "            'SELECT lt.category_name as category, f.title as longest_title, LENGTH(f.title) as title_len '\n",
    "            'FROM film f '\n",
    "            'INNER JOIN film_category fc ON fc.film_id = f.film_id '\n",
    "            'INNER JOIN lt_temp lt ON fc.category_id = lt.category_id '\n",
    "            'WHERE LENGTH(f.title) = lt.longest_title_len', con=connection).pivot(index=['category', 'title_len', 'longest_title'], columns=[]).sort_index()\n",
    "# bardzo pokręcony sposób, ale chyba działa"
   ],
   "metadata": {
    "collapsed": false,
    "pycharm": {
     "name": "#%%\n"
    }
   }
  },
  {
   "cell_type": "markdown",
   "source": [
    "11. Znajdź najdłuższy film we wszystkich kategoriach. Porównaj wynik z pkt 10."
   ],
   "metadata": {
    "collapsed": false,
    "pycharm": {
     "name": "#%% md\n"
    }
   }
  },
  {
   "cell_type": "code",
   "execution_count": 275,
   "outputs": [
    {
     "data": {
      "text/plain": "Empty DataFrame\nColumns: []\nIndex: [(Action, 185, Darn Forrester), (Action, 185, Worst Banger), (Animation, 185, Gangs Pride), (Animation, 185, Pond Seattle), (Children, 178, Fury Murder), (Children, 178, Wrong Behavior), (Classics, 184, Conspiracy Spirit), (Comedy, 185, Control Anthem), (Documentary, 183, Wife Turn), (Documentary, 183, Young Language), (Drama, 181, Jacket Frisco), (Family, 184, King Evolution), (Foreign, 184, Crystal Breaking), (Foreign, 184, Sorority Queen), (Games, 185, Chicago North), (Horror, 181, Analyze Hoosiers), (Horror, 181, Love Suicides), (Music, 185, Home Pity), (New, 183, Frontier Cabin), (Sci-Fi, 185, Soldiers Evolution), (Sports, 184, Smoochy Control), (Travel, 185, Muscle Bright), (Travel, 185, Sweet Brotherhood)]",
      "text/html": "<div>\n<style scoped>\n    .dataframe tbody tr th:only-of-type {\n        vertical-align: middle;\n    }\n\n    .dataframe tbody tr th {\n        vertical-align: top;\n    }\n\n    .dataframe thead th {\n        text-align: right;\n    }\n</style>\n<table border=\"1\" class=\"dataframe\">\n  <thead>\n    <tr style=\"text-align: right;\">\n      <th></th>\n      <th></th>\n      <th></th>\n    </tr>\n    <tr>\n      <th>category</th>\n      <th>length_minutes</th>\n      <th>longest_film</th>\n    </tr>\n  </thead>\n  <tbody>\n    <tr>\n      <th rowspan=\"2\" valign=\"top\">Action</th>\n      <th rowspan=\"2\" valign=\"top\">185</th>\n      <th>Darn Forrester</th>\n    </tr>\n    <tr>\n      <th>Worst Banger</th>\n    </tr>\n    <tr>\n      <th rowspan=\"2\" valign=\"top\">Animation</th>\n      <th rowspan=\"2\" valign=\"top\">185</th>\n      <th>Gangs Pride</th>\n    </tr>\n    <tr>\n      <th>Pond Seattle</th>\n    </tr>\n    <tr>\n      <th rowspan=\"2\" valign=\"top\">Children</th>\n      <th rowspan=\"2\" valign=\"top\">178</th>\n      <th>Fury Murder</th>\n    </tr>\n    <tr>\n      <th>Wrong Behavior</th>\n    </tr>\n    <tr>\n      <th>Classics</th>\n      <th>184</th>\n      <th>Conspiracy Spirit</th>\n    </tr>\n    <tr>\n      <th>Comedy</th>\n      <th>185</th>\n      <th>Control Anthem</th>\n    </tr>\n    <tr>\n      <th rowspan=\"2\" valign=\"top\">Documentary</th>\n      <th rowspan=\"2\" valign=\"top\">183</th>\n      <th>Wife Turn</th>\n    </tr>\n    <tr>\n      <th>Young Language</th>\n    </tr>\n    <tr>\n      <th>Drama</th>\n      <th>181</th>\n      <th>Jacket Frisco</th>\n    </tr>\n    <tr>\n      <th>Family</th>\n      <th>184</th>\n      <th>King Evolution</th>\n    </tr>\n    <tr>\n      <th rowspan=\"2\" valign=\"top\">Foreign</th>\n      <th rowspan=\"2\" valign=\"top\">184</th>\n      <th>Crystal Breaking</th>\n    </tr>\n    <tr>\n      <th>Sorority Queen</th>\n    </tr>\n    <tr>\n      <th>Games</th>\n      <th>185</th>\n      <th>Chicago North</th>\n    </tr>\n    <tr>\n      <th rowspan=\"2\" valign=\"top\">Horror</th>\n      <th rowspan=\"2\" valign=\"top\">181</th>\n      <th>Analyze Hoosiers</th>\n    </tr>\n    <tr>\n      <th>Love Suicides</th>\n    </tr>\n    <tr>\n      <th>Music</th>\n      <th>185</th>\n      <th>Home Pity</th>\n    </tr>\n    <tr>\n      <th>New</th>\n      <th>183</th>\n      <th>Frontier Cabin</th>\n    </tr>\n    <tr>\n      <th>Sci-Fi</th>\n      <th>185</th>\n      <th>Soldiers Evolution</th>\n    </tr>\n    <tr>\n      <th>Sports</th>\n      <th>184</th>\n      <th>Smoochy Control</th>\n    </tr>\n    <tr>\n      <th rowspan=\"2\" valign=\"top\">Travel</th>\n      <th rowspan=\"2\" valign=\"top\">185</th>\n      <th>Muscle Bright</th>\n    </tr>\n    <tr>\n      <th>Sweet Brotherhood</th>\n    </tr>\n  </tbody>\n</table>\n</div>"
     },
     "execution_count": 275,
     "metadata": {},
     "output_type": "execute_result"
    }
   ],
   "source": [
    "pd.read_sql('SELECT * '\n",
    "            'INTO TEMPORARY lf_temp '\n",
    "            'FROM '\n",
    "            '(SELECT c.category_id, c.name as category_name, MAX(f.length) AS longest_film '\n",
    "            'FROM film f '\n",
    "            'LEFT JOIN film_category fc ON f.film_id = fc.film_id '\n",
    "            'LEFT JOIN category c ON fc.category_id = c.category_id '\n",
    "            'GROUP BY c.category_id, c.name) AS foo; '\n",
    "            'SELECT lf.category_name as category, f.title as longest_film, f.length as length_minutes '\n",
    "            'FROM film f '\n",
    "            'INNER JOIN film_category fc ON fc.film_id = f.film_id '\n",
    "            'INNER JOIN lf_temp lf ON fc.category_id = lf.category_id '\n",
    "            'WHERE f.length = lf.longest_film', con=connection).pivot(index=['category', 'length_minutes', 'longest_film'], columns=[]).sort_index()\n",
    "# bardzo pokręcony sposób, ale chyba działa"
   ],
   "metadata": {
    "collapsed": false,
    "pycharm": {
     "name": "#%%\n"
    }
   }
  },
  {
   "source": [
    "## Zadanie implementacyjne\n",
    "Zaimplementuj wszystkie funkcje w pliku main.py zgodnie z opisem a następnie przetestuj je w notatniku."
   ],
   "cell_type": "markdown",
   "metadata": {}
  },
  {
   "cell_type": "code",
   "execution_count": 286,
   "metadata": {
    "pycharm": {
     "name": "#%%\n"
    }
   },
   "outputs": [],
   "source": [
    "import main\n",
    "\n",
    "main.film_in_category(category_id=7)"
   ]
  },
  {
   "cell_type": "code",
   "execution_count": 287,
   "outputs": [],
   "source": [
    "main.number_films_in_category(category_id=5)"
   ],
   "metadata": {
    "collapsed": false,
    "pycharm": {
     "name": "#%%\n"
    }
   }
  },
  {
   "cell_type": "code",
   "execution_count": 278,
   "outputs": [],
   "source": [
    "main.number_film_by_length(min_length=70, max_length=120)"
   ],
   "metadata": {
    "collapsed": false,
    "pycharm": {
     "name": "#%%\n"
    }
   }
  },
  {
   "cell_type": "code",
   "execution_count": 279,
   "outputs": [],
   "source": [
    "main.client_from_city(city='Warsaw')"
   ],
   "metadata": {
    "collapsed": false,
    "pycharm": {
     "name": "#%%\n"
    }
   }
  },
  {
   "cell_type": "code",
   "execution_count": 280,
   "outputs": [],
   "source": [
    "main.avg_amount_by_length(length=88)"
   ],
   "metadata": {
    "collapsed": false,
    "pycharm": {
     "name": "#%%\n"
    }
   }
  },
  {
   "cell_type": "code",
   "execution_count": 281,
   "outputs": [],
   "source": [
    "main.client_by_sum_length(sum_min=1500)"
   ],
   "metadata": {
    "collapsed": false,
    "pycharm": {
     "name": "#%%\n"
    }
   }
  },
  {
   "cell_type": "code",
   "execution_count": 282,
   "outputs": [],
   "source": [
    "main.category_statistic_length(name='Comedy')"
   ],
   "metadata": {
    "collapsed": false,
    "pycharm": {
     "name": "#%%\n"
    }
   }
  }
 ],
 "metadata": {
  "kernelspec": {
   "name": "python3",
   "language": "python",
   "display_name": "Python 3"
  },
  "language_info": {
   "codemirror_mode": {
    "name": "ipython",
    "version": 3
   },
   "file_extension": ".py",
   "mimetype": "text/x-python",
   "name": "python",
   "nbconvert_exporter": "python",
   "pygments_lexer": "ipython3",
   "version": "3.7.6-final"
  }
 },
 "nbformat": 4,
 "nbformat_minor": 2
}
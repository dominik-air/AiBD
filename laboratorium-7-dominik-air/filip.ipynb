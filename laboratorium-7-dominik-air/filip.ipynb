{
 "cells": [
  {
   "cell_type": "code",
   "execution_count": 3,
   "metadata": {
    "collapsed": true
   },
   "outputs": [
    {
     "name": "stdout",
     "output_type": "stream",
     "text": [
      "Product(name='Wędlina', weight=100)\n",
      "Product(name='Ser', weight=20)\n"
     ]
    }
   ],
   "source": [
    "import pandas as pd\n",
    "from dataclasses import dataclass\n",
    "from typing import List\n",
    "\n",
    "@dataclass\n",
    "class Product:\n",
    "    name: str\n",
    "    weight: int\n",
    "\n",
    "def multiple_products_from_str(str_list: str) -> List[Product]:\n",
    "    str_list = str_list[1:-1].split(',') # usuniecie '[' i ']'\n",
    "    products = []\n",
    "    for i in range(0, len(str_list), 2):\n",
    "        name = str_list[i]\n",
    "        weight = int(str_list[i+1])\n",
    "        products.append(Product(name, weight))\n",
    "    return products\n",
    "\n",
    "\n",
    "df = pd.read_csv('dania.csv', sep=';')\n",
    "\n",
    "lista_skladnikow = df['Skład'].values[0]\n",
    "skladniki = multiple_products_from_str(lista_skladnikow)\n",
    "for skladnik in skladniki:\n",
    "    print(skladnik)"
   ]
  },
  {
   "cell_type": "code",
   "execution_count": 4,
   "outputs": [
    {
     "data": {
      "text/plain": "     Nazwa                  Skład  Kalorie  Białko  Tabu  Punkty\n0  Kanapki   [Wędlina,100,Ser,20]     1000     400     0       1\n1    Wódka  [Woda,300,Etanol,200]     1000     400     0       1",
      "text/html": "<div>\n<style scoped>\n    .dataframe tbody tr th:only-of-type {\n        vertical-align: middle;\n    }\n\n    .dataframe tbody tr th {\n        vertical-align: top;\n    }\n\n    .dataframe thead th {\n        text-align: right;\n    }\n</style>\n<table border=\"1\" class=\"dataframe\">\n  <thead>\n    <tr style=\"text-align: right;\">\n      <th></th>\n      <th>Nazwa</th>\n      <th>Skład</th>\n      <th>Kalorie</th>\n      <th>Białko</th>\n      <th>Tabu</th>\n      <th>Punkty</th>\n    </tr>\n  </thead>\n  <tbody>\n    <tr>\n      <th>0</th>\n      <td>Kanapki</td>\n      <td>[Wędlina,100,Ser,20]</td>\n      <td>1000</td>\n      <td>400</td>\n      <td>0</td>\n      <td>1</td>\n    </tr>\n    <tr>\n      <th>1</th>\n      <td>Wódka</td>\n      <td>[Woda,300,Etanol,200]</td>\n      <td>1000</td>\n      <td>400</td>\n      <td>0</td>\n      <td>1</td>\n    </tr>\n  </tbody>\n</table>\n</div>"
     },
     "execution_count": 4,
     "metadata": {},
     "output_type": "execute_result"
    }
   ],
   "source": [
    "df"
   ],
   "metadata": {
    "collapsed": false,
    "pycharm": {
     "name": "#%%\n"
    }
   }
  },
  {
   "cell_type": "code",
   "execution_count": 7,
   "outputs": [
    {
     "data": {
      "text/plain": "   Nazwa                  Skład  Kalorie  Białko  Tabu  Punkty\n1  Wódka  [Woda,300,Etanol,200]     1000     400     0       1",
      "text/html": "<div>\n<style scoped>\n    .dataframe tbody tr th:only-of-type {\n        vertical-align: middle;\n    }\n\n    .dataframe tbody tr th {\n        vertical-align: top;\n    }\n\n    .dataframe thead th {\n        text-align: right;\n    }\n</style>\n<table border=\"1\" class=\"dataframe\">\n  <thead>\n    <tr style=\"text-align: right;\">\n      <th></th>\n      <th>Nazwa</th>\n      <th>Skład</th>\n      <th>Kalorie</th>\n      <th>Białko</th>\n      <th>Tabu</th>\n      <th>Punkty</th>\n    </tr>\n  </thead>\n  <tbody>\n    <tr>\n      <th>1</th>\n      <td>Wódka</td>\n      <td>[Woda,300,Etanol,200]</td>\n      <td>1000</td>\n      <td>400</td>\n      <td>0</td>\n      <td>1</td>\n    </tr>\n  </tbody>\n</table>\n</div>"
     },
     "execution_count": 7,
     "metadata": {},
     "output_type": "execute_result"
    }
   ],
   "source": [
    "df.loc[df['Nazwa'] == 'Wódka']"
   ],
   "metadata": {
    "collapsed": false,
    "pycharm": {
     "name": "#%%\n"
    }
   }
  },
  {
   "cell_type": "code",
   "execution_count": null,
   "outputs": [],
   "source": [],
   "metadata": {
    "collapsed": false,
    "pycharm": {
     "name": "#%%\n"
    }
   }
  }
 ],
 "metadata": {
  "kernelspec": {
   "display_name": "Python 3",
   "language": "python",
   "name": "python3"
  },
  "language_info": {
   "codemirror_mode": {
    "name": "ipython",
    "version": 2
   },
   "file_extension": ".py",
   "mimetype": "text/x-python",
   "name": "python",
   "nbconvert_exporter": "python",
   "pygments_lexer": "ipython2",
   "version": "2.7.6"
  }
 },
 "nbformat": 4,
 "nbformat_minor": 0
}